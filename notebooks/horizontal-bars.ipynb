{
 "cells": [
  {
   "cell_type": "markdown",
   "metadata": {},
   "source": [
    "#### New to Plotly?\n",
    "Plotly's Python library is free and open source! [Get started](https://plot.ly/python/getting-started/) by downloading the client and [reading the primer](https://plot.ly/python/getting-started/).\n",
    "<br>You can set up Plotly to work in [online](https://plot.ly/python/getting-started/#initialization-for-online-plotting) or [offline](https://plot.ly/python/getting-started/#initialization-for-offline-plotting) mode, or in [jupyter notebooks](https://plot.ly/python/getting-started/#start-plotting-online).\n",
    "<br>We also have a quick-reference [cheatsheet](https://images.plot.ly/plotly-documentation/images/python_cheat_sheet.pdf) (new!) to help you get started!"
   ]
  },
  {
   "cell_type": "code",
   "execution_count": 4,
   "metadata": {
    "collapsed": false
   },
   "outputs": [
    {
     "data": {
      "text/html": [
       "<script>requirejs.config({paths: { 'plotly': ['https://cdn.plot.ly/plotly-latest.min']},});if(!window.Plotly) {{require(['plotly'],function(plotly) {window.Plotly=plotly;});}}</script>"
      ],
      "text/vnd.plotly.v1+html": [
       "<script>requirejs.config({paths: { 'plotly': ['https://cdn.plot.ly/plotly-latest.min']},});if(!window.Plotly) {{require(['plotly'],function(plotly) {window.Plotly=plotly;});}}</script>"
      ]
     },
     "metadata": {},
     "output_type": "display_data"
    }
   ],
   "source": [
    "import plotly.plotly as py\n",
    "import plotly.graph_objs as go\n",
    "import random\n",
    "import numpy as np\n",
    "import pandas as pd\n",
    "import plotly\n",
    "from plotly.offline import init_notebook_mode, plot\n",
    "init_notebook_mode(connected=True)"
   ]
  },
  {
   "cell_type": "markdown",
   "metadata": {},
   "source": [
    "#### Basic Horizontal Bar Chart"
   ]
  },
  {
   "cell_type": "code",
   "execution_count": 5,
   "metadata": {
    "collapsed": false
   },
   "outputs": [
    {
     "data": {
      "text/html": [
       "<iframe id=\"igraph\" scrolling=\"no\" style=\"border:none;\" seamless=\"seamless\" src=\"https://plot.ly/~chaityacshah/18.embed\" height=\"525px\" width=\"100%\"></iframe>"
      ],
      "text/plain": [
       "<plotly.tools.PlotlyDisplay object>"
      ]
     },
     "execution_count": 5,
     "metadata": {},
     "output_type": "execute_result"
    }
   ],
   "source": [
    "data = [go.Bar(\n",
    "            x=[20, 14, 23],\n",
    "            y=['giraffes', 'orangutans', 'monkeys'],\n",
    "            orientation = 'h'\n",
    ")]\n",
    "\n",
    "plotly.offline.iplot(data, filename='horizontal-bar')"
   ]
  },
  {
   "cell_type": "markdown",
   "metadata": {},
   "source": [
    "### Colored Horizontal Bar Chart"
   ]
  },
  {
   "cell_type": "code",
   "execution_count": 8,
   "metadata": {
    "collapsed": false
   },
   "outputs": [
    {
     "data": {
      "application/vnd.plotly.v1+json": {
       "data": [
        {
         "marker": {
          "color": "rgba(246, 78, 139, 0.6)",
          "line": {
           "color": "rgba(246, 78, 139, 1.0)",
           "width": 3
          }
         },
         "name": "SF Zoo",
         "orientation": "h",
         "type": "bar",
         "x": [
          20,
          14,
          23
         ],
         "y": [
          "giraffes",
          "orangutans",
          "monkeys"
         ]
        },
        {
         "marker": {
          "color": "rgba(58, 71, 80, 0.6)",
          "line": {
           "color": "rgba(58, 71, 80, 1.0)",
           "width": 3
          }
         },
         "name": "LA Zoo",
         "orientation": "h",
         "type": "bar",
         "x": [
          12,
          18,
          29
         ],
         "y": [
          "giraffes",
          "orangutans",
          "monkeys"
         ]
        }
       ],
       "layout": {
        "barmode": "stack"
       }
      },
      "text/html": [
       "<div id=\"0c7f7c11-d02b-4e18-88a3-274fc06b25b2\" style=\"height: 525px; width: 100%;\" class=\"plotly-graph-div\"></div><script type=\"text/javascript\">require([\"plotly\"], function(Plotly) { window.PLOTLYENV=window.PLOTLYENV || {};window.PLOTLYENV.BASE_URL=\"https://plot.ly\";Plotly.newPlot(\"0c7f7c11-d02b-4e18-88a3-274fc06b25b2\", [{\"y\": [\"giraffes\", \"orangutans\", \"monkeys\"], \"marker\": {\"color\": \"rgba(246, 78, 139, 0.6)\", \"line\": {\"width\": 3, \"color\": \"rgba(246, 78, 139, 1.0)\"}}, \"type\": \"bar\", \"x\": [20, 14, 23], \"orientation\": \"h\", \"name\": \"SF Zoo\"}, {\"y\": [\"giraffes\", \"orangutans\", \"monkeys\"], \"marker\": {\"color\": \"rgba(58, 71, 80, 0.6)\", \"line\": {\"width\": 3, \"color\": \"rgba(58, 71, 80, 1.0)\"}}, \"type\": \"bar\", \"x\": [12, 18, 29], \"orientation\": \"h\", \"name\": \"LA Zoo\"}], {\"barmode\": \"stack\"}, {\"showLink\": true, \"linkText\": \"Export to plot.ly\"})});</script>"
      ],
      "text/vnd.plotly.v1+html": [
       "<div id=\"0c7f7c11-d02b-4e18-88a3-274fc06b25b2\" style=\"height: 525px; width: 100%;\" class=\"plotly-graph-div\"></div><script type=\"text/javascript\">require([\"plotly\"], function(Plotly) { window.PLOTLYENV=window.PLOTLYENV || {};window.PLOTLYENV.BASE_URL=\"https://plot.ly\";Plotly.newPlot(\"0c7f7c11-d02b-4e18-88a3-274fc06b25b2\", [{\"y\": [\"giraffes\", \"orangutans\", \"monkeys\"], \"marker\": {\"color\": \"rgba(246, 78, 139, 0.6)\", \"line\": {\"width\": 3, \"color\": \"rgba(246, 78, 139, 1.0)\"}}, \"type\": \"bar\", \"x\": [20, 14, 23], \"orientation\": \"h\", \"name\": \"SF Zoo\"}, {\"y\": [\"giraffes\", \"orangutans\", \"monkeys\"], \"marker\": {\"color\": \"rgba(58, 71, 80, 0.6)\", \"line\": {\"width\": 3, \"color\": \"rgba(58, 71, 80, 1.0)\"}}, \"type\": \"bar\", \"x\": [12, 18, 29], \"orientation\": \"h\", \"name\": \"LA Zoo\"}], {\"barmode\": \"stack\"}, {\"showLink\": true, \"linkText\": \"Export to plot.ly\"})});</script>"
      ]
     },
     "metadata": {},
     "output_type": "display_data"
    }
   ],
   "source": [
    "trace1 = go.Bar(\n",
    "    y=['giraffes', 'orangutans', 'monkeys'],\n",
    "    x=[20, 14, 23],\n",
    "    name='SF Zoo',\n",
    "    orientation = 'h',\n",
    "    marker = dict(\n",
    "        color = 'rgba(246, 78, 139, 0.6)',\n",
    "        line = dict(\n",
    "            color = 'rgba(246, 78, 139, 1.0)',\n",
    "            width = 3)\n",
    "    )\n",
    ")\n",
    "trace2 = go.Bar(\n",
    "    y=['giraffes', 'orangutans', 'monkeys'],\n",
    "    x=[12, 18, 29],\n",
    "    name='LA Zoo',\n",
    "    orientation = 'h',\n",
    "    marker = dict(\n",
    "        color = 'rgba(58, 71, 80, 0.6)',\n",
    "        line = dict(\n",
    "            color = 'rgba(58, 71, 80, 1.0)',\n",
    "            width = 3)\n",
    "    )\n",
    ")\n",
    "\n",
    "data = [trace1, trace2]\n",
    "layout = go.Layout(\n",
    "    barmode='stack'\n",
    ")\n",
    "\n",
    "fig = go.Figure(data=data, layout=layout)\n",
    "plotly.offline.iplot(fig, filename='marker-h-bar')"
   ]
  },
  {
   "cell_type": "markdown",
   "metadata": {},
   "source": [
    "### Color Palette for Bar Chart"
   ]
  },
  {
   "cell_type": "code",
   "execution_count": 13,
   "metadata": {
    "collapsed": false
   },
   "outputs": [
    {
     "data": {
      "text/html": [
       "<iframe id=\"igraph\" scrolling=\"no\" style=\"border:none;\" seamless=\"seamless\" src=\"https://plot.ly/~chaityacshah/22.embed\" height=\"525px\" width=\"100%\"></iframe>"
      ],
      "text/plain": [
       "<plotly.tools.PlotlyDisplay object>"
      ]
     },
     "execution_count": 13,
     "metadata": {},
     "output_type": "execute_result"
    }
   ],
   "source": [
    "import plotly.plotly as py\n",
    "import plotly.graph_objs as go\n",
    "\n",
    "top_labels = ['Strongly<br>agree', 'Agree', 'Neutral', 'Disagree',\n",
    "              'Strongly<br>disagree']\n",
    "\n",
    "colors = ['rgba(38, 24, 74, 0.8)', 'rgba(71, 58, 131, 0.8)',\n",
    "          'rgba(122, 120, 168, 0.8)', 'rgba(164, 163, 204, 0.85)',\n",
    "          'rgba(190, 192, 213, 1)']\n",
    "\n",
    "x_data = [[21, 30, 21, 16, 12],\n",
    "          [24, 31, 19, 15, 11],\n",
    "          [27, 26, 23, 11, 13],\n",
    "          [29, 24, 15, 18, 14]]\n",
    "\n",
    "y_data = ['The course was effectively<br>organized',\n",
    "          'The course developed my<br>abilities and skills ' +\n",
    "          'for<br>the subject', 'The course developed ' +\n",
    "          'my<br>ability to think critically about<br>the subject',\n",
    "          'I would recommend this<br>course to a friend']\n",
    "\n",
    "\n",
    "traces = []\n",
    "\n",
    "for i in range(0, len(x_data[0])):\n",
    "    for xd, yd in zip(x_data, y_data):\n",
    "        traces.append(go.Bar(\n",
    "            x=xd[i],\n",
    "            y=yd,\n",
    "            orientation='h',\n",
    "            marker=dict(\n",
    "                color=colors[i],\n",
    "                line=dict(\n",
    "                        color='rgb(248, 248, 249)',\n",
    "                        width=1)\n",
    "            )\n",
    "        ))\n",
    "\n",
    "layout = go.Layout(\n",
    "    xaxis=dict(\n",
    "        showgrid=False,\n",
    "        showline=False,\n",
    "        showticklabels=False,\n",
    "        zeroline=False,\n",
    "        domain=[0.15, 1]\n",
    "    ),\n",
    "    yaxis=dict(\n",
    "        showgrid=False,\n",
    "        showline=False,\n",
    "        showticklabels=False,\n",
    "        zeroline=False,\n",
    "    ),\n",
    "    barmode='stack',\n",
    "    paper_bgcolor='rgb(248, 248, 255)',\n",
    "    plot_bgcolor='rgb(248, 248, 255)',\n",
    "    margin=dict(\n",
    "        l=120,\n",
    "        r=10,\n",
    "        t=140,\n",
    "        b=80\n",
    "    ),\n",
    "    showlegend=False,\n",
    ")\n",
    "\n",
    "annotations = []\n",
    "\n",
    "for yd, xd in zip(y_data, x_data):\n",
    "    # labeling the y-axis\n",
    "    annotations.append(dict(xref='paper', yref='y',\n",
    "                            x=0.14, y=yd,\n",
    "                            xanchor='right',\n",
    "                            text=str(yd),\n",
    "                            font=dict(family='Arial', size=14,\n",
    "                                      color='rgb(67, 67, 67)'),\n",
    "                            showarrow=False, align='right'))\n",
    "    # labeling the first percentage of each bar (x_axis)\n",
    "    annotations.append(dict(xref='x', yref='y',\n",
    "                            x=xd[0] / 2, y=yd,\n",
    "                            text=str(xd[0]) + '%',\n",
    "                            font=dict(family='Arial', size=14,\n",
    "                                      color='rgb(248, 248, 255)'),\n",
    "                            showarrow=False))\n",
    "    # labeling the first Likert scale (on the top)\n",
    "    if yd == y_data[-1]:\n",
    "        annotations.append(dict(xref='x', yref='paper',\n",
    "                                x=xd[0] / 2, y=1.1,\n",
    "                                text=top_labels[0],\n",
    "                                font=dict(family='Arial', size=14,\n",
    "                                          color='rgb(67, 67, 67)'),\n",
    "                                showarrow=False))\n",
    "    space = xd[0]\n",
    "    for i in range(1, len(xd)):\n",
    "            # labeling the rest of percentages for each bar (x_axis)\n",
    "            annotations.append(dict(xref='x', yref='y',\n",
    "                                    x=space + (xd[i]/2), y=yd, \n",
    "                                    text=str(xd[i]) + '%',\n",
    "                                    font=dict(family='Arial', size=14,\n",
    "                                              color='rgb(248, 248, 255)'),\n",
    "                                    showarrow=False))\n",
    "            # labeling the Likert scale\n",
    "            if yd == y_data[-1]:\n",
    "                annotations.append(dict(xref='x', yref='paper',\n",
    "                                        x=space + (xd[i]/2), y=1.1,\n",
    "                                        text=top_labels[i],\n",
    "                                        font=dict(family='Arial', size=14,\n",
    "                                                  color='rgb(67, 67, 67)'),\n",
    "                                        showarrow=False))\n",
    "            space += xd[i]\n",
    "\n",
    "layout['annotations'] = annotations\n",
    "\n",
    "fig = go.Figure(data=traces, layout=layout)\n",
    "py.iplot(fig, filename='bar-colorscale')"
   ]
  },
  {
   "cell_type": "code",
   "execution_count": 14,
   "metadata": {
    "collapsed": false
   },
   "outputs": [
    {
     "data": {
      "application/vnd.plotly.v1+json": {
       "data": [
        {
         "marker": {
          "color": "rgba(38, 24, 74, 0.8)",
          "line": {
           "color": "rgb(248, 248, 249)",
           "width": 1
          }
         },
         "orientation": "h",
         "type": "bar",
         "x": 21,
         "y": "The course was effectively<br>organized"
        },
        {
         "marker": {
          "color": "rgba(38, 24, 74, 0.8)",
          "line": {
           "color": "rgb(248, 248, 249)",
           "width": 1
          }
         },
         "orientation": "h",
         "type": "bar",
         "x": 24,
         "y": "The course developed my<br>abilities and skills for<br>the subject"
        },
        {
         "marker": {
          "color": "rgba(38, 24, 74, 0.8)",
          "line": {
           "color": "rgb(248, 248, 249)",
           "width": 1
          }
         },
         "orientation": "h",
         "type": "bar",
         "x": 27,
         "y": "The course developed my<br>ability to think critically about<br>the subject"
        },
        {
         "marker": {
          "color": "rgba(38, 24, 74, 0.8)",
          "line": {
           "color": "rgb(248, 248, 249)",
           "width": 1
          }
         },
         "orientation": "h",
         "type": "bar",
         "x": 29,
         "y": "I would recommend this<br>course to a friend"
        },
        {
         "marker": {
          "color": "rgba(71, 58, 131, 0.8)",
          "line": {
           "color": "rgb(248, 248, 249)",
           "width": 1
          }
         },
         "orientation": "h",
         "type": "bar",
         "x": 30,
         "y": "The course was effectively<br>organized"
        },
        {
         "marker": {
          "color": "rgba(71, 58, 131, 0.8)",
          "line": {
           "color": "rgb(248, 248, 249)",
           "width": 1
          }
         },
         "orientation": "h",
         "type": "bar",
         "x": 31,
         "y": "The course developed my<br>abilities and skills for<br>the subject"
        },
        {
         "marker": {
          "color": "rgba(71, 58, 131, 0.8)",
          "line": {
           "color": "rgb(248, 248, 249)",
           "width": 1
          }
         },
         "orientation": "h",
         "type": "bar",
         "x": 26,
         "y": "The course developed my<br>ability to think critically about<br>the subject"
        },
        {
         "marker": {
          "color": "rgba(71, 58, 131, 0.8)",
          "line": {
           "color": "rgb(248, 248, 249)",
           "width": 1
          }
         },
         "orientation": "h",
         "type": "bar",
         "x": 24,
         "y": "I would recommend this<br>course to a friend"
        },
        {
         "marker": {
          "color": "rgba(122, 120, 168, 0.8)",
          "line": {
           "color": "rgb(248, 248, 249)",
           "width": 1
          }
         },
         "orientation": "h",
         "type": "bar",
         "x": 21,
         "y": "The course was effectively<br>organized"
        },
        {
         "marker": {
          "color": "rgba(122, 120, 168, 0.8)",
          "line": {
           "color": "rgb(248, 248, 249)",
           "width": 1
          }
         },
         "orientation": "h",
         "type": "bar",
         "x": 19,
         "y": "The course developed my<br>abilities and skills for<br>the subject"
        },
        {
         "marker": {
          "color": "rgba(122, 120, 168, 0.8)",
          "line": {
           "color": "rgb(248, 248, 249)",
           "width": 1
          }
         },
         "orientation": "h",
         "type": "bar",
         "x": 23,
         "y": "The course developed my<br>ability to think critically about<br>the subject"
        },
        {
         "marker": {
          "color": "rgba(122, 120, 168, 0.8)",
          "line": {
           "color": "rgb(248, 248, 249)",
           "width": 1
          }
         },
         "orientation": "h",
         "type": "bar",
         "x": 15,
         "y": "I would recommend this<br>course to a friend"
        },
        {
         "marker": {
          "color": "rgba(164, 163, 204, 0.85)",
          "line": {
           "color": "rgb(248, 248, 249)",
           "width": 1
          }
         },
         "orientation": "h",
         "type": "bar",
         "x": 16,
         "y": "The course was effectively<br>organized"
        },
        {
         "marker": {
          "color": "rgba(164, 163, 204, 0.85)",
          "line": {
           "color": "rgb(248, 248, 249)",
           "width": 1
          }
         },
         "orientation": "h",
         "type": "bar",
         "x": 15,
         "y": "The course developed my<br>abilities and skills for<br>the subject"
        },
        {
         "marker": {
          "color": "rgba(164, 163, 204, 0.85)",
          "line": {
           "color": "rgb(248, 248, 249)",
           "width": 1
          }
         },
         "orientation": "h",
         "type": "bar",
         "x": 11,
         "y": "The course developed my<br>ability to think critically about<br>the subject"
        },
        {
         "marker": {
          "color": "rgba(164, 163, 204, 0.85)",
          "line": {
           "color": "rgb(248, 248, 249)",
           "width": 1
          }
         },
         "orientation": "h",
         "type": "bar",
         "x": 18,
         "y": "I would recommend this<br>course to a friend"
        },
        {
         "marker": {
          "color": "rgba(190, 192, 213, 1)",
          "line": {
           "color": "rgb(248, 248, 249)",
           "width": 1
          }
         },
         "orientation": "h",
         "type": "bar",
         "x": 12,
         "y": "The course was effectively<br>organized"
        },
        {
         "marker": {
          "color": "rgba(190, 192, 213, 1)",
          "line": {
           "color": "rgb(248, 248, 249)",
           "width": 1
          }
         },
         "orientation": "h",
         "type": "bar",
         "x": 11,
         "y": "The course developed my<br>abilities and skills for<br>the subject"
        },
        {
         "marker": {
          "color": "rgba(190, 192, 213, 1)",
          "line": {
           "color": "rgb(248, 248, 249)",
           "width": 1
          }
         },
         "orientation": "h",
         "type": "bar",
         "x": 13,
         "y": "The course developed my<br>ability to think critically about<br>the subject"
        },
        {
         "marker": {
          "color": "rgba(190, 192, 213, 1)",
          "line": {
           "color": "rgb(248, 248, 249)",
           "width": 1
          }
         },
         "orientation": "h",
         "type": "bar",
         "x": 14,
         "y": "I would recommend this<br>course to a friend"
        }
       ],
       "layout": {
        "annotations": [
         {
          "align": "right",
          "font": {
           "color": "rgb(67, 67, 67)",
           "family": "Arial",
           "size": 14
          },
          "showarrow": false,
          "text": "The course was effectively<br>organized",
          "x": 0.14,
          "xanchor": "right",
          "xref": "paper",
          "y": "The course was effectively<br>organized",
          "yref": "y"
         },
         {
          "font": {
           "color": "rgb(248, 248, 255)",
           "family": "Arial",
           "size": 14
          },
          "showarrow": false,
          "text": "21%",
          "x": 10.5,
          "xref": "x",
          "y": "The course was effectively<br>organized",
          "yref": "y"
         },
         {
          "font": {
           "color": "rgb(248, 248, 255)",
           "family": "Arial",
           "size": 14
          },
          "showarrow": false,
          "text": "30%",
          "x": 36,
          "xref": "x",
          "y": "The course was effectively<br>organized",
          "yref": "y"
         },
         {
          "font": {
           "color": "rgb(248, 248, 255)",
           "family": "Arial",
           "size": 14
          },
          "showarrow": false,
          "text": "21%",
          "x": 61.5,
          "xref": "x",
          "y": "The course was effectively<br>organized",
          "yref": "y"
         },
         {
          "font": {
           "color": "rgb(248, 248, 255)",
           "family": "Arial",
           "size": 14
          },
          "showarrow": false,
          "text": "16%",
          "x": 80,
          "xref": "x",
          "y": "The course was effectively<br>organized",
          "yref": "y"
         },
         {
          "font": {
           "color": "rgb(248, 248, 255)",
           "family": "Arial",
           "size": 14
          },
          "showarrow": false,
          "text": "12%",
          "x": 94,
          "xref": "x",
          "y": "The course was effectively<br>organized",
          "yref": "y"
         },
         {
          "align": "right",
          "font": {
           "color": "rgb(67, 67, 67)",
           "family": "Arial",
           "size": 14
          },
          "showarrow": false,
          "text": "The course developed my<br>abilities and skills for<br>the subject",
          "x": 0.14,
          "xanchor": "right",
          "xref": "paper",
          "y": "The course developed my<br>abilities and skills for<br>the subject",
          "yref": "y"
         },
         {
          "font": {
           "color": "rgb(248, 248, 255)",
           "family": "Arial",
           "size": 14
          },
          "showarrow": false,
          "text": "24%",
          "x": 12,
          "xref": "x",
          "y": "The course developed my<br>abilities and skills for<br>the subject",
          "yref": "y"
         },
         {
          "font": {
           "color": "rgb(248, 248, 255)",
           "family": "Arial",
           "size": 14
          },
          "showarrow": false,
          "text": "31%",
          "x": 39.5,
          "xref": "x",
          "y": "The course developed my<br>abilities and skills for<br>the subject",
          "yref": "y"
         },
         {
          "font": {
           "color": "rgb(248, 248, 255)",
           "family": "Arial",
           "size": 14
          },
          "showarrow": false,
          "text": "19%",
          "x": 64.5,
          "xref": "x",
          "y": "The course developed my<br>abilities and skills for<br>the subject",
          "yref": "y"
         },
         {
          "font": {
           "color": "rgb(248, 248, 255)",
           "family": "Arial",
           "size": 14
          },
          "showarrow": false,
          "text": "15%",
          "x": 81.5,
          "xref": "x",
          "y": "The course developed my<br>abilities and skills for<br>the subject",
          "yref": "y"
         },
         {
          "font": {
           "color": "rgb(248, 248, 255)",
           "family": "Arial",
           "size": 14
          },
          "showarrow": false,
          "text": "11%",
          "x": 94.5,
          "xref": "x",
          "y": "The course developed my<br>abilities and skills for<br>the subject",
          "yref": "y"
         },
         {
          "align": "right",
          "font": {
           "color": "rgb(67, 67, 67)",
           "family": "Arial",
           "size": 14
          },
          "showarrow": false,
          "text": "The course developed my<br>ability to think critically about<br>the subject",
          "x": 0.14,
          "xanchor": "right",
          "xref": "paper",
          "y": "The course developed my<br>ability to think critically about<br>the subject",
          "yref": "y"
         },
         {
          "font": {
           "color": "rgb(248, 248, 255)",
           "family": "Arial",
           "size": 14
          },
          "showarrow": false,
          "text": "27%",
          "x": 13.5,
          "xref": "x",
          "y": "The course developed my<br>ability to think critically about<br>the subject",
          "yref": "y"
         },
         {
          "font": {
           "color": "rgb(248, 248, 255)",
           "family": "Arial",
           "size": 14
          },
          "showarrow": false,
          "text": "26%",
          "x": 40,
          "xref": "x",
          "y": "The course developed my<br>ability to think critically about<br>the subject",
          "yref": "y"
         },
         {
          "font": {
           "color": "rgb(248, 248, 255)",
           "family": "Arial",
           "size": 14
          },
          "showarrow": false,
          "text": "23%",
          "x": 64.5,
          "xref": "x",
          "y": "The course developed my<br>ability to think critically about<br>the subject",
          "yref": "y"
         },
         {
          "font": {
           "color": "rgb(248, 248, 255)",
           "family": "Arial",
           "size": 14
          },
          "showarrow": false,
          "text": "11%",
          "x": 81.5,
          "xref": "x",
          "y": "The course developed my<br>ability to think critically about<br>the subject",
          "yref": "y"
         },
         {
          "font": {
           "color": "rgb(248, 248, 255)",
           "family": "Arial",
           "size": 14
          },
          "showarrow": false,
          "text": "13%",
          "x": 93.5,
          "xref": "x",
          "y": "The course developed my<br>ability to think critically about<br>the subject",
          "yref": "y"
         },
         {
          "align": "right",
          "font": {
           "color": "rgb(67, 67, 67)",
           "family": "Arial",
           "size": 14
          },
          "showarrow": false,
          "text": "I would recommend this<br>course to a friend",
          "x": 0.14,
          "xanchor": "right",
          "xref": "paper",
          "y": "I would recommend this<br>course to a friend",
          "yref": "y"
         },
         {
          "font": {
           "color": "rgb(248, 248, 255)",
           "family": "Arial",
           "size": 14
          },
          "showarrow": false,
          "text": "29%",
          "x": 14.5,
          "xref": "x",
          "y": "I would recommend this<br>course to a friend",
          "yref": "y"
         },
         {
          "font": {
           "color": "rgb(67, 67, 67)",
           "family": "Arial",
           "size": 14
          },
          "showarrow": false,
          "text": "Strongly<br>agree",
          "x": 14.5,
          "xref": "x",
          "y": 1.1,
          "yref": "paper"
         },
         {
          "font": {
           "color": "rgb(248, 248, 255)",
           "family": "Arial",
           "size": 14
          },
          "showarrow": false,
          "text": "24%",
          "x": 41,
          "xref": "x",
          "y": "I would recommend this<br>course to a friend",
          "yref": "y"
         },
         {
          "font": {
           "color": "rgb(67, 67, 67)",
           "family": "Arial",
           "size": 14
          },
          "showarrow": false,
          "text": "Agree",
          "x": 41,
          "xref": "x",
          "y": 1.1,
          "yref": "paper"
         },
         {
          "font": {
           "color": "rgb(248, 248, 255)",
           "family": "Arial",
           "size": 14
          },
          "showarrow": false,
          "text": "15%",
          "x": 60.5,
          "xref": "x",
          "y": "I would recommend this<br>course to a friend",
          "yref": "y"
         },
         {
          "font": {
           "color": "rgb(67, 67, 67)",
           "family": "Arial",
           "size": 14
          },
          "showarrow": false,
          "text": "Neutral",
          "x": 60.5,
          "xref": "x",
          "y": 1.1,
          "yref": "paper"
         },
         {
          "font": {
           "color": "rgb(248, 248, 255)",
           "family": "Arial",
           "size": 14
          },
          "showarrow": false,
          "text": "18%",
          "x": 77,
          "xref": "x",
          "y": "I would recommend this<br>course to a friend",
          "yref": "y"
         },
         {
          "font": {
           "color": "rgb(67, 67, 67)",
           "family": "Arial",
           "size": 14
          },
          "showarrow": false,
          "text": "Disagree",
          "x": 77,
          "xref": "x",
          "y": 1.1,
          "yref": "paper"
         },
         {
          "font": {
           "color": "rgb(248, 248, 255)",
           "family": "Arial",
           "size": 14
          },
          "showarrow": false,
          "text": "14%",
          "x": 93,
          "xref": "x",
          "y": "I would recommend this<br>course to a friend",
          "yref": "y"
         },
         {
          "font": {
           "color": "rgb(67, 67, 67)",
           "family": "Arial",
           "size": 14
          },
          "showarrow": false,
          "text": "Strongly<br>disagree",
          "x": 93,
          "xref": "x",
          "y": 1.1,
          "yref": "paper"
         }
        ],
        "barmode": "stack",
        "margin": {
         "b": 80,
         "l": 120,
         "r": 10,
         "t": 140
        },
        "paper_bgcolor": "rgb(248, 248, 255)",
        "plot_bgcolor": "rgb(248, 248, 255)",
        "showlegend": false,
        "xaxis": {
         "domain": [
          0.15,
          1
         ],
         "showgrid": false,
         "showline": false,
         "showticklabels": false,
         "zeroline": false
        },
        "yaxis": {
         "showgrid": false,
         "showline": false,
         "showticklabels": false,
         "zeroline": false
        }
       }
      },
      "text/html": [
       "<div id=\"5e2800ff-ff1d-4dba-aa71-eda7a4234373\" style=\"height: 525px; width: 100%;\" class=\"plotly-graph-div\"></div><script type=\"text/javascript\">require([\"plotly\"], function(Plotly) { window.PLOTLYENV=window.PLOTLYENV || {};window.PLOTLYENV.BASE_URL=\"https://plot.ly\";Plotly.newPlot(\"5e2800ff-ff1d-4dba-aa71-eda7a4234373\", [{\"y\": \"The course was effectively<br>organized\", \"x\": 21, \"marker\": {\"color\": \"rgba(38, 24, 74, 0.8)\", \"line\": {\"width\": 1, \"color\": \"rgb(248, 248, 249)\"}}, \"orientation\": \"h\", \"type\": \"bar\"}, {\"y\": \"The course developed my<br>abilities and skills for<br>the subject\", \"x\": 24, \"marker\": {\"color\": \"rgba(38, 24, 74, 0.8)\", \"line\": {\"width\": 1, \"color\": \"rgb(248, 248, 249)\"}}, \"orientation\": \"h\", \"type\": \"bar\"}, {\"y\": \"The course developed my<br>ability to think critically about<br>the subject\", \"x\": 27, \"marker\": {\"color\": \"rgba(38, 24, 74, 0.8)\", \"line\": {\"width\": 1, \"color\": \"rgb(248, 248, 249)\"}}, \"orientation\": \"h\", \"type\": \"bar\"}, {\"y\": \"I would recommend this<br>course to a friend\", \"x\": 29, \"marker\": {\"color\": \"rgba(38, 24, 74, 0.8)\", \"line\": {\"width\": 1, \"color\": \"rgb(248, 248, 249)\"}}, \"orientation\": \"h\", \"type\": \"bar\"}, {\"y\": \"The course was effectively<br>organized\", \"x\": 30, \"marker\": {\"color\": \"rgba(71, 58, 131, 0.8)\", \"line\": {\"width\": 1, \"color\": \"rgb(248, 248, 249)\"}}, \"orientation\": \"h\", \"type\": \"bar\"}, {\"y\": \"The course developed my<br>abilities and skills for<br>the subject\", \"x\": 31, \"marker\": {\"color\": \"rgba(71, 58, 131, 0.8)\", \"line\": {\"width\": 1, \"color\": \"rgb(248, 248, 249)\"}}, \"orientation\": \"h\", \"type\": \"bar\"}, {\"y\": \"The course developed my<br>ability to think critically about<br>the subject\", \"x\": 26, \"marker\": {\"color\": \"rgba(71, 58, 131, 0.8)\", \"line\": {\"width\": 1, \"color\": \"rgb(248, 248, 249)\"}}, \"orientation\": \"h\", \"type\": \"bar\"}, {\"y\": \"I would recommend this<br>course to a friend\", \"x\": 24, \"marker\": {\"color\": \"rgba(71, 58, 131, 0.8)\", \"line\": {\"width\": 1, \"color\": \"rgb(248, 248, 249)\"}}, \"orientation\": \"h\", \"type\": \"bar\"}, {\"y\": \"The course was effectively<br>organized\", \"x\": 21, \"marker\": {\"color\": \"rgba(122, 120, 168, 0.8)\", \"line\": {\"width\": 1, \"color\": \"rgb(248, 248, 249)\"}}, \"orientation\": \"h\", \"type\": \"bar\"}, {\"y\": \"The course developed my<br>abilities and skills for<br>the subject\", \"x\": 19, \"marker\": {\"color\": \"rgba(122, 120, 168, 0.8)\", \"line\": {\"width\": 1, \"color\": \"rgb(248, 248, 249)\"}}, \"orientation\": \"h\", \"type\": \"bar\"}, {\"y\": \"The course developed my<br>ability to think critically about<br>the subject\", \"x\": 23, \"marker\": {\"color\": \"rgba(122, 120, 168, 0.8)\", \"line\": {\"width\": 1, \"color\": \"rgb(248, 248, 249)\"}}, \"orientation\": \"h\", \"type\": \"bar\"}, {\"y\": \"I would recommend this<br>course to a friend\", \"x\": 15, \"marker\": {\"color\": \"rgba(122, 120, 168, 0.8)\", \"line\": {\"width\": 1, \"color\": \"rgb(248, 248, 249)\"}}, \"orientation\": \"h\", \"type\": \"bar\"}, {\"y\": \"The course was effectively<br>organized\", \"x\": 16, \"marker\": {\"color\": \"rgba(164, 163, 204, 0.85)\", \"line\": {\"width\": 1, \"color\": \"rgb(248, 248, 249)\"}}, \"orientation\": \"h\", \"type\": \"bar\"}, {\"y\": \"The course developed my<br>abilities and skills for<br>the subject\", \"x\": 15, \"marker\": {\"color\": \"rgba(164, 163, 204, 0.85)\", \"line\": {\"width\": 1, \"color\": \"rgb(248, 248, 249)\"}}, \"orientation\": \"h\", \"type\": \"bar\"}, {\"y\": \"The course developed my<br>ability to think critically about<br>the subject\", \"x\": 11, \"marker\": {\"color\": \"rgba(164, 163, 204, 0.85)\", \"line\": {\"width\": 1, \"color\": \"rgb(248, 248, 249)\"}}, \"orientation\": \"h\", \"type\": \"bar\"}, {\"y\": \"I would recommend this<br>course to a friend\", \"x\": 18, \"marker\": {\"color\": \"rgba(164, 163, 204, 0.85)\", \"line\": {\"width\": 1, \"color\": \"rgb(248, 248, 249)\"}}, \"orientation\": \"h\", \"type\": \"bar\"}, {\"y\": \"The course was effectively<br>organized\", \"x\": 12, \"marker\": {\"color\": \"rgba(190, 192, 213, 1)\", \"line\": {\"width\": 1, \"color\": \"rgb(248, 248, 249)\"}}, \"orientation\": \"h\", \"type\": \"bar\"}, {\"y\": \"The course developed my<br>abilities and skills for<br>the subject\", \"x\": 11, \"marker\": {\"color\": \"rgba(190, 192, 213, 1)\", \"line\": {\"width\": 1, \"color\": \"rgb(248, 248, 249)\"}}, \"orientation\": \"h\", \"type\": \"bar\"}, {\"y\": \"The course developed my<br>ability to think critically about<br>the subject\", \"x\": 13, \"marker\": {\"color\": \"rgba(190, 192, 213, 1)\", \"line\": {\"width\": 1, \"color\": \"rgb(248, 248, 249)\"}}, \"orientation\": \"h\", \"type\": \"bar\"}, {\"y\": \"I would recommend this<br>course to a friend\", \"x\": 14, \"marker\": {\"color\": \"rgba(190, 192, 213, 1)\", \"line\": {\"width\": 1, \"color\": \"rgb(248, 248, 249)\"}}, \"orientation\": \"h\", \"type\": \"bar\"}], {\"yaxis\": {\"showticklabels\": false, \"showline\": false, \"showgrid\": false, \"zeroline\": false}, \"margin\": {\"r\": 10, \"b\": 80, \"l\": 120, \"t\": 140}, \"showlegend\": false, \"plot_bgcolor\": \"rgb(248, 248, 255)\", \"barmode\": \"stack\", \"xaxis\": {\"domain\": [0.15, 1], \"showline\": false, \"showticklabels\": false, \"showgrid\": false, \"zeroline\": false}, \"annotations\": [{\"xref\": \"paper\", \"font\": {\"color\": \"rgb(67, 67, 67)\", \"size\": 14, \"family\": \"Arial\"}, \"xanchor\": \"right\", \"text\": \"The course was effectively<br>organized\", \"y\": \"The course was effectively<br>organized\", \"align\": \"right\", \"x\": 0.14, \"yref\": \"y\", \"showarrow\": false}, {\"y\": \"The course was effectively<br>organized\", \"text\": \"21%\", \"xref\": \"x\", \"yref\": \"y\", \"x\": 10.5, \"font\": {\"color\": \"rgb(248, 248, 255)\", \"size\": 14, \"family\": \"Arial\"}, \"showarrow\": false}, {\"y\": \"The course was effectively<br>organized\", \"text\": \"30%\", \"xref\": \"x\", \"yref\": \"y\", \"x\": 36.0, \"font\": {\"color\": \"rgb(248, 248, 255)\", \"size\": 14, \"family\": \"Arial\"}, \"showarrow\": false}, {\"y\": \"The course was effectively<br>organized\", \"text\": \"21%\", \"xref\": \"x\", \"yref\": \"y\", \"x\": 61.5, \"font\": {\"color\": \"rgb(248, 248, 255)\", \"size\": 14, \"family\": \"Arial\"}, \"showarrow\": false}, {\"y\": \"The course was effectively<br>organized\", \"text\": \"16%\", \"xref\": \"x\", \"yref\": \"y\", \"x\": 80.0, \"font\": {\"color\": \"rgb(248, 248, 255)\", \"size\": 14, \"family\": \"Arial\"}, \"showarrow\": false}, {\"y\": \"The course was effectively<br>organized\", \"text\": \"12%\", \"xref\": \"x\", \"yref\": \"y\", \"x\": 94.0, \"font\": {\"color\": \"rgb(248, 248, 255)\", \"size\": 14, \"family\": \"Arial\"}, \"showarrow\": false}, {\"xref\": \"paper\", \"font\": {\"color\": \"rgb(67, 67, 67)\", \"size\": 14, \"family\": \"Arial\"}, \"xanchor\": \"right\", \"text\": \"The course developed my<br>abilities and skills for<br>the subject\", \"y\": \"The course developed my<br>abilities and skills for<br>the subject\", \"align\": \"right\", \"x\": 0.14, \"yref\": \"y\", \"showarrow\": false}, {\"y\": \"The course developed my<br>abilities and skills for<br>the subject\", \"text\": \"24%\", \"xref\": \"x\", \"yref\": \"y\", \"x\": 12.0, \"font\": {\"color\": \"rgb(248, 248, 255)\", \"size\": 14, \"family\": \"Arial\"}, \"showarrow\": false}, {\"y\": \"The course developed my<br>abilities and skills for<br>the subject\", \"text\": \"31%\", \"xref\": \"x\", \"yref\": \"y\", \"x\": 39.5, \"font\": {\"color\": \"rgb(248, 248, 255)\", \"size\": 14, \"family\": \"Arial\"}, \"showarrow\": false}, {\"y\": \"The course developed my<br>abilities and skills for<br>the subject\", \"text\": \"19%\", \"xref\": \"x\", \"yref\": \"y\", \"x\": 64.5, \"font\": {\"color\": \"rgb(248, 248, 255)\", \"size\": 14, \"family\": \"Arial\"}, \"showarrow\": false}, {\"y\": \"The course developed my<br>abilities and skills for<br>the subject\", \"text\": \"15%\", \"xref\": \"x\", \"yref\": \"y\", \"x\": 81.5, \"font\": {\"color\": \"rgb(248, 248, 255)\", \"size\": 14, \"family\": \"Arial\"}, \"showarrow\": false}, {\"y\": \"The course developed my<br>abilities and skills for<br>the subject\", \"text\": \"11%\", \"xref\": \"x\", \"yref\": \"y\", \"x\": 94.5, \"font\": {\"color\": \"rgb(248, 248, 255)\", \"size\": 14, \"family\": \"Arial\"}, \"showarrow\": false}, {\"xref\": \"paper\", \"font\": {\"color\": \"rgb(67, 67, 67)\", \"size\": 14, \"family\": \"Arial\"}, \"xanchor\": \"right\", \"text\": \"The course developed my<br>ability to think critically about<br>the subject\", \"y\": \"The course developed my<br>ability to think critically about<br>the subject\", \"align\": \"right\", \"x\": 0.14, \"yref\": \"y\", \"showarrow\": false}, {\"y\": \"The course developed my<br>ability to think critically about<br>the subject\", \"text\": \"27%\", \"xref\": \"x\", \"yref\": \"y\", \"x\": 13.5, \"font\": {\"color\": \"rgb(248, 248, 255)\", \"size\": 14, \"family\": \"Arial\"}, \"showarrow\": false}, {\"y\": \"The course developed my<br>ability to think critically about<br>the subject\", \"text\": \"26%\", \"xref\": \"x\", \"yref\": \"y\", \"x\": 40.0, \"font\": {\"color\": \"rgb(248, 248, 255)\", \"size\": 14, \"family\": \"Arial\"}, \"showarrow\": false}, {\"y\": \"The course developed my<br>ability to think critically about<br>the subject\", \"text\": \"23%\", \"xref\": \"x\", \"yref\": \"y\", \"x\": 64.5, \"font\": {\"color\": \"rgb(248, 248, 255)\", \"size\": 14, \"family\": \"Arial\"}, \"showarrow\": false}, {\"y\": \"The course developed my<br>ability to think critically about<br>the subject\", \"text\": \"11%\", \"xref\": \"x\", \"yref\": \"y\", \"x\": 81.5, \"font\": {\"color\": \"rgb(248, 248, 255)\", \"size\": 14, \"family\": \"Arial\"}, \"showarrow\": false}, {\"y\": \"The course developed my<br>ability to think critically about<br>the subject\", \"text\": \"13%\", \"xref\": \"x\", \"yref\": \"y\", \"x\": 93.5, \"font\": {\"color\": \"rgb(248, 248, 255)\", \"size\": 14, \"family\": \"Arial\"}, \"showarrow\": false}, {\"xref\": \"paper\", \"font\": {\"color\": \"rgb(67, 67, 67)\", \"size\": 14, \"family\": \"Arial\"}, \"xanchor\": \"right\", \"text\": \"I would recommend this<br>course to a friend\", \"y\": \"I would recommend this<br>course to a friend\", \"align\": \"right\", \"x\": 0.14, \"yref\": \"y\", \"showarrow\": false}, {\"y\": \"I would recommend this<br>course to a friend\", \"text\": \"29%\", \"xref\": \"x\", \"yref\": \"y\", \"x\": 14.5, \"font\": {\"color\": \"rgb(248, 248, 255)\", \"size\": 14, \"family\": \"Arial\"}, \"showarrow\": false}, {\"y\": 1.1, \"text\": \"Strongly<br>agree\", \"xref\": \"x\", \"yref\": \"paper\", \"x\": 14.5, \"font\": {\"color\": \"rgb(67, 67, 67)\", \"size\": 14, \"family\": \"Arial\"}, \"showarrow\": false}, {\"y\": \"I would recommend this<br>course to a friend\", \"text\": \"24%\", \"xref\": \"x\", \"yref\": \"y\", \"x\": 41.0, \"font\": {\"color\": \"rgb(248, 248, 255)\", \"size\": 14, \"family\": \"Arial\"}, \"showarrow\": false}, {\"y\": 1.1, \"text\": \"Agree\", \"xref\": \"x\", \"yref\": \"paper\", \"x\": 41.0, \"font\": {\"color\": \"rgb(67, 67, 67)\", \"size\": 14, \"family\": \"Arial\"}, \"showarrow\": false}, {\"y\": \"I would recommend this<br>course to a friend\", \"text\": \"15%\", \"xref\": \"x\", \"yref\": \"y\", \"x\": 60.5, \"font\": {\"color\": \"rgb(248, 248, 255)\", \"size\": 14, \"family\": \"Arial\"}, \"showarrow\": false}, {\"y\": 1.1, \"text\": \"Neutral\", \"xref\": \"x\", \"yref\": \"paper\", \"x\": 60.5, \"font\": {\"color\": \"rgb(67, 67, 67)\", \"size\": 14, \"family\": \"Arial\"}, \"showarrow\": false}, {\"y\": \"I would recommend this<br>course to a friend\", \"text\": \"18%\", \"xref\": \"x\", \"yref\": \"y\", \"x\": 77.0, \"font\": {\"color\": \"rgb(248, 248, 255)\", \"size\": 14, \"family\": \"Arial\"}, \"showarrow\": false}, {\"y\": 1.1, \"text\": \"Disagree\", \"xref\": \"x\", \"yref\": \"paper\", \"x\": 77.0, \"font\": {\"color\": \"rgb(67, 67, 67)\", \"size\": 14, \"family\": \"Arial\"}, \"showarrow\": false}, {\"y\": \"I would recommend this<br>course to a friend\", \"text\": \"14%\", \"xref\": \"x\", \"yref\": \"y\", \"x\": 93.0, \"font\": {\"color\": \"rgb(248, 248, 255)\", \"size\": 14, \"family\": \"Arial\"}, \"showarrow\": false}, {\"y\": 1.1, \"text\": \"Strongly<br>disagree\", \"xref\": \"x\", \"yref\": \"paper\", \"x\": 93.0, \"font\": {\"color\": \"rgb(67, 67, 67)\", \"size\": 14, \"family\": \"Arial\"}, \"showarrow\": false}], \"paper_bgcolor\": \"rgb(248, 248, 255)\"}, {\"showLink\": true, \"linkText\": \"Export to plot.ly\"})});</script>"
      ],
      "text/vnd.plotly.v1+html": [
       "<div id=\"5e2800ff-ff1d-4dba-aa71-eda7a4234373\" style=\"height: 525px; width: 100%;\" class=\"plotly-graph-div\"></div><script type=\"text/javascript\">require([\"plotly\"], function(Plotly) { window.PLOTLYENV=window.PLOTLYENV || {};window.PLOTLYENV.BASE_URL=\"https://plot.ly\";Plotly.newPlot(\"5e2800ff-ff1d-4dba-aa71-eda7a4234373\", [{\"y\": \"The course was effectively<br>organized\", \"x\": 21, \"marker\": {\"color\": \"rgba(38, 24, 74, 0.8)\", \"line\": {\"width\": 1, \"color\": \"rgb(248, 248, 249)\"}}, \"orientation\": \"h\", \"type\": \"bar\"}, {\"y\": \"The course developed my<br>abilities and skills for<br>the subject\", \"x\": 24, \"marker\": {\"color\": \"rgba(38, 24, 74, 0.8)\", \"line\": {\"width\": 1, \"color\": \"rgb(248, 248, 249)\"}}, \"orientation\": \"h\", \"type\": \"bar\"}, {\"y\": \"The course developed my<br>ability to think critically about<br>the subject\", \"x\": 27, \"marker\": {\"color\": \"rgba(38, 24, 74, 0.8)\", \"line\": {\"width\": 1, \"color\": \"rgb(248, 248, 249)\"}}, \"orientation\": \"h\", \"type\": \"bar\"}, {\"y\": \"I would recommend this<br>course to a friend\", \"x\": 29, \"marker\": {\"color\": \"rgba(38, 24, 74, 0.8)\", \"line\": {\"width\": 1, \"color\": \"rgb(248, 248, 249)\"}}, \"orientation\": \"h\", \"type\": \"bar\"}, {\"y\": \"The course was effectively<br>organized\", \"x\": 30, \"marker\": {\"color\": \"rgba(71, 58, 131, 0.8)\", \"line\": {\"width\": 1, \"color\": \"rgb(248, 248, 249)\"}}, \"orientation\": \"h\", \"type\": \"bar\"}, {\"y\": \"The course developed my<br>abilities and skills for<br>the subject\", \"x\": 31, \"marker\": {\"color\": \"rgba(71, 58, 131, 0.8)\", \"line\": {\"width\": 1, \"color\": \"rgb(248, 248, 249)\"}}, \"orientation\": \"h\", \"type\": \"bar\"}, {\"y\": \"The course developed my<br>ability to think critically about<br>the subject\", \"x\": 26, \"marker\": {\"color\": \"rgba(71, 58, 131, 0.8)\", \"line\": {\"width\": 1, \"color\": \"rgb(248, 248, 249)\"}}, \"orientation\": \"h\", \"type\": \"bar\"}, {\"y\": \"I would recommend this<br>course to a friend\", \"x\": 24, \"marker\": {\"color\": \"rgba(71, 58, 131, 0.8)\", \"line\": {\"width\": 1, \"color\": \"rgb(248, 248, 249)\"}}, \"orientation\": \"h\", \"type\": \"bar\"}, {\"y\": \"The course was effectively<br>organized\", \"x\": 21, \"marker\": {\"color\": \"rgba(122, 120, 168, 0.8)\", \"line\": {\"width\": 1, \"color\": \"rgb(248, 248, 249)\"}}, \"orientation\": \"h\", \"type\": \"bar\"}, {\"y\": \"The course developed my<br>abilities and skills for<br>the subject\", \"x\": 19, \"marker\": {\"color\": \"rgba(122, 120, 168, 0.8)\", \"line\": {\"width\": 1, \"color\": \"rgb(248, 248, 249)\"}}, \"orientation\": \"h\", \"type\": \"bar\"}, {\"y\": \"The course developed my<br>ability to think critically about<br>the subject\", \"x\": 23, \"marker\": {\"color\": \"rgba(122, 120, 168, 0.8)\", \"line\": {\"width\": 1, \"color\": \"rgb(248, 248, 249)\"}}, \"orientation\": \"h\", \"type\": \"bar\"}, {\"y\": \"I would recommend this<br>course to a friend\", \"x\": 15, \"marker\": {\"color\": \"rgba(122, 120, 168, 0.8)\", \"line\": {\"width\": 1, \"color\": \"rgb(248, 248, 249)\"}}, \"orientation\": \"h\", \"type\": \"bar\"}, {\"y\": \"The course was effectively<br>organized\", \"x\": 16, \"marker\": {\"color\": \"rgba(164, 163, 204, 0.85)\", \"line\": {\"width\": 1, \"color\": \"rgb(248, 248, 249)\"}}, \"orientation\": \"h\", \"type\": \"bar\"}, {\"y\": \"The course developed my<br>abilities and skills for<br>the subject\", \"x\": 15, \"marker\": {\"color\": \"rgba(164, 163, 204, 0.85)\", \"line\": {\"width\": 1, \"color\": \"rgb(248, 248, 249)\"}}, \"orientation\": \"h\", \"type\": \"bar\"}, {\"y\": \"The course developed my<br>ability to think critically about<br>the subject\", \"x\": 11, \"marker\": {\"color\": \"rgba(164, 163, 204, 0.85)\", \"line\": {\"width\": 1, \"color\": \"rgb(248, 248, 249)\"}}, \"orientation\": \"h\", \"type\": \"bar\"}, {\"y\": \"I would recommend this<br>course to a friend\", \"x\": 18, \"marker\": {\"color\": \"rgba(164, 163, 204, 0.85)\", \"line\": {\"width\": 1, \"color\": \"rgb(248, 248, 249)\"}}, \"orientation\": \"h\", \"type\": \"bar\"}, {\"y\": \"The course was effectively<br>organized\", \"x\": 12, \"marker\": {\"color\": \"rgba(190, 192, 213, 1)\", \"line\": {\"width\": 1, \"color\": \"rgb(248, 248, 249)\"}}, \"orientation\": \"h\", \"type\": \"bar\"}, {\"y\": \"The course developed my<br>abilities and skills for<br>the subject\", \"x\": 11, \"marker\": {\"color\": \"rgba(190, 192, 213, 1)\", \"line\": {\"width\": 1, \"color\": \"rgb(248, 248, 249)\"}}, \"orientation\": \"h\", \"type\": \"bar\"}, {\"y\": \"The course developed my<br>ability to think critically about<br>the subject\", \"x\": 13, \"marker\": {\"color\": \"rgba(190, 192, 213, 1)\", \"line\": {\"width\": 1, \"color\": \"rgb(248, 248, 249)\"}}, \"orientation\": \"h\", \"type\": \"bar\"}, {\"y\": \"I would recommend this<br>course to a friend\", \"x\": 14, \"marker\": {\"color\": \"rgba(190, 192, 213, 1)\", \"line\": {\"width\": 1, \"color\": \"rgb(248, 248, 249)\"}}, \"orientation\": \"h\", \"type\": \"bar\"}], {\"yaxis\": {\"showticklabels\": false, \"showline\": false, \"showgrid\": false, \"zeroline\": false}, \"margin\": {\"r\": 10, \"b\": 80, \"l\": 120, \"t\": 140}, \"showlegend\": false, \"plot_bgcolor\": \"rgb(248, 248, 255)\", \"barmode\": \"stack\", \"xaxis\": {\"domain\": [0.15, 1], \"showline\": false, \"showticklabels\": false, \"showgrid\": false, \"zeroline\": false}, \"annotations\": [{\"xref\": \"paper\", \"font\": {\"color\": \"rgb(67, 67, 67)\", \"size\": 14, \"family\": \"Arial\"}, \"xanchor\": \"right\", \"text\": \"The course was effectively<br>organized\", \"y\": \"The course was effectively<br>organized\", \"align\": \"right\", \"x\": 0.14, \"yref\": \"y\", \"showarrow\": false}, {\"y\": \"The course was effectively<br>organized\", \"text\": \"21%\", \"xref\": \"x\", \"yref\": \"y\", \"x\": 10.5, \"font\": {\"color\": \"rgb(248, 248, 255)\", \"size\": 14, \"family\": \"Arial\"}, \"showarrow\": false}, {\"y\": \"The course was effectively<br>organized\", \"text\": \"30%\", \"xref\": \"x\", \"yref\": \"y\", \"x\": 36.0, \"font\": {\"color\": \"rgb(248, 248, 255)\", \"size\": 14, \"family\": \"Arial\"}, \"showarrow\": false}, {\"y\": \"The course was effectively<br>organized\", \"text\": \"21%\", \"xref\": \"x\", \"yref\": \"y\", \"x\": 61.5, \"font\": {\"color\": \"rgb(248, 248, 255)\", \"size\": 14, \"family\": \"Arial\"}, \"showarrow\": false}, {\"y\": \"The course was effectively<br>organized\", \"text\": \"16%\", \"xref\": \"x\", \"yref\": \"y\", \"x\": 80.0, \"font\": {\"color\": \"rgb(248, 248, 255)\", \"size\": 14, \"family\": \"Arial\"}, \"showarrow\": false}, {\"y\": \"The course was effectively<br>organized\", \"text\": \"12%\", \"xref\": \"x\", \"yref\": \"y\", \"x\": 94.0, \"font\": {\"color\": \"rgb(248, 248, 255)\", \"size\": 14, \"family\": \"Arial\"}, \"showarrow\": false}, {\"xref\": \"paper\", \"font\": {\"color\": \"rgb(67, 67, 67)\", \"size\": 14, \"family\": \"Arial\"}, \"xanchor\": \"right\", \"text\": \"The course developed my<br>abilities and skills for<br>the subject\", \"y\": \"The course developed my<br>abilities and skills for<br>the subject\", \"align\": \"right\", \"x\": 0.14, \"yref\": \"y\", \"showarrow\": false}, {\"y\": \"The course developed my<br>abilities and skills for<br>the subject\", \"text\": \"24%\", \"xref\": \"x\", \"yref\": \"y\", \"x\": 12.0, \"font\": {\"color\": \"rgb(248, 248, 255)\", \"size\": 14, \"family\": \"Arial\"}, \"showarrow\": false}, {\"y\": \"The course developed my<br>abilities and skills for<br>the subject\", \"text\": \"31%\", \"xref\": \"x\", \"yref\": \"y\", \"x\": 39.5, \"font\": {\"color\": \"rgb(248, 248, 255)\", \"size\": 14, \"family\": \"Arial\"}, \"showarrow\": false}, {\"y\": \"The course developed my<br>abilities and skills for<br>the subject\", \"text\": \"19%\", \"xref\": \"x\", \"yref\": \"y\", \"x\": 64.5, \"font\": {\"color\": \"rgb(248, 248, 255)\", \"size\": 14, \"family\": \"Arial\"}, \"showarrow\": false}, {\"y\": \"The course developed my<br>abilities and skills for<br>the subject\", \"text\": \"15%\", \"xref\": \"x\", \"yref\": \"y\", \"x\": 81.5, \"font\": {\"color\": \"rgb(248, 248, 255)\", \"size\": 14, \"family\": \"Arial\"}, \"showarrow\": false}, {\"y\": \"The course developed my<br>abilities and skills for<br>the subject\", \"text\": \"11%\", \"xref\": \"x\", \"yref\": \"y\", \"x\": 94.5, \"font\": {\"color\": \"rgb(248, 248, 255)\", \"size\": 14, \"family\": \"Arial\"}, \"showarrow\": false}, {\"xref\": \"paper\", \"font\": {\"color\": \"rgb(67, 67, 67)\", \"size\": 14, \"family\": \"Arial\"}, \"xanchor\": \"right\", \"text\": \"The course developed my<br>ability to think critically about<br>the subject\", \"y\": \"The course developed my<br>ability to think critically about<br>the subject\", \"align\": \"right\", \"x\": 0.14, \"yref\": \"y\", \"showarrow\": false}, {\"y\": \"The course developed my<br>ability to think critically about<br>the subject\", \"text\": \"27%\", \"xref\": \"x\", \"yref\": \"y\", \"x\": 13.5, \"font\": {\"color\": \"rgb(248, 248, 255)\", \"size\": 14, \"family\": \"Arial\"}, \"showarrow\": false}, {\"y\": \"The course developed my<br>ability to think critically about<br>the subject\", \"text\": \"26%\", \"xref\": \"x\", \"yref\": \"y\", \"x\": 40.0, \"font\": {\"color\": \"rgb(248, 248, 255)\", \"size\": 14, \"family\": \"Arial\"}, \"showarrow\": false}, {\"y\": \"The course developed my<br>ability to think critically about<br>the subject\", \"text\": \"23%\", \"xref\": \"x\", \"yref\": \"y\", \"x\": 64.5, \"font\": {\"color\": \"rgb(248, 248, 255)\", \"size\": 14, \"family\": \"Arial\"}, \"showarrow\": false}, {\"y\": \"The course developed my<br>ability to think critically about<br>the subject\", \"text\": \"11%\", \"xref\": \"x\", \"yref\": \"y\", \"x\": 81.5, \"font\": {\"color\": \"rgb(248, 248, 255)\", \"size\": 14, \"family\": \"Arial\"}, \"showarrow\": false}, {\"y\": \"The course developed my<br>ability to think critically about<br>the subject\", \"text\": \"13%\", \"xref\": \"x\", \"yref\": \"y\", \"x\": 93.5, \"font\": {\"color\": \"rgb(248, 248, 255)\", \"size\": 14, \"family\": \"Arial\"}, \"showarrow\": false}, {\"xref\": \"paper\", \"font\": {\"color\": \"rgb(67, 67, 67)\", \"size\": 14, \"family\": \"Arial\"}, \"xanchor\": \"right\", \"text\": \"I would recommend this<br>course to a friend\", \"y\": \"I would recommend this<br>course to a friend\", \"align\": \"right\", \"x\": 0.14, \"yref\": \"y\", \"showarrow\": false}, {\"y\": \"I would recommend this<br>course to a friend\", \"text\": \"29%\", \"xref\": \"x\", \"yref\": \"y\", \"x\": 14.5, \"font\": {\"color\": \"rgb(248, 248, 255)\", \"size\": 14, \"family\": \"Arial\"}, \"showarrow\": false}, {\"y\": 1.1, \"text\": \"Strongly<br>agree\", \"xref\": \"x\", \"yref\": \"paper\", \"x\": 14.5, \"font\": {\"color\": \"rgb(67, 67, 67)\", \"size\": 14, \"family\": \"Arial\"}, \"showarrow\": false}, {\"y\": \"I would recommend this<br>course to a friend\", \"text\": \"24%\", \"xref\": \"x\", \"yref\": \"y\", \"x\": 41.0, \"font\": {\"color\": \"rgb(248, 248, 255)\", \"size\": 14, \"family\": \"Arial\"}, \"showarrow\": false}, {\"y\": 1.1, \"text\": \"Agree\", \"xref\": \"x\", \"yref\": \"paper\", \"x\": 41.0, \"font\": {\"color\": \"rgb(67, 67, 67)\", \"size\": 14, \"family\": \"Arial\"}, \"showarrow\": false}, {\"y\": \"I would recommend this<br>course to a friend\", \"text\": \"15%\", \"xref\": \"x\", \"yref\": \"y\", \"x\": 60.5, \"font\": {\"color\": \"rgb(248, 248, 255)\", \"size\": 14, \"family\": \"Arial\"}, \"showarrow\": false}, {\"y\": 1.1, \"text\": \"Neutral\", \"xref\": \"x\", \"yref\": \"paper\", \"x\": 60.5, \"font\": {\"color\": \"rgb(67, 67, 67)\", \"size\": 14, \"family\": \"Arial\"}, \"showarrow\": false}, {\"y\": \"I would recommend this<br>course to a friend\", \"text\": \"18%\", \"xref\": \"x\", \"yref\": \"y\", \"x\": 77.0, \"font\": {\"color\": \"rgb(248, 248, 255)\", \"size\": 14, \"family\": \"Arial\"}, \"showarrow\": false}, {\"y\": 1.1, \"text\": \"Disagree\", \"xref\": \"x\", \"yref\": \"paper\", \"x\": 77.0, \"font\": {\"color\": \"rgb(67, 67, 67)\", \"size\": 14, \"family\": \"Arial\"}, \"showarrow\": false}, {\"y\": \"I would recommend this<br>course to a friend\", \"text\": \"14%\", \"xref\": \"x\", \"yref\": \"y\", \"x\": 93.0, \"font\": {\"color\": \"rgb(248, 248, 255)\", \"size\": 14, \"family\": \"Arial\"}, \"showarrow\": false}, {\"y\": 1.1, \"text\": \"Strongly<br>disagree\", \"xref\": \"x\", \"yref\": \"paper\", \"x\": 93.0, \"font\": {\"color\": \"rgb(67, 67, 67)\", \"size\": 14, \"family\": \"Arial\"}, \"showarrow\": false}], \"paper_bgcolor\": \"rgb(248, 248, 255)\"}, {\"showLink\": true, \"linkText\": \"Export to plot.ly\"})});</script>"
      ]
     },
     "metadata": {},
     "output_type": "display_data"
    }
   ],
   "source": [
    "# dunno why but offline doesn't work with this! strange.\n",
    "plotly.offline.iplot(fig, filename='bar-colorscale')"
   ]
  },
  {
   "cell_type": "markdown",
   "metadata": {},
   "source": [
    "### Bar Chart with Line Plot"
   ]
  },
  {
   "cell_type": "code",
   "execution_count": 10,
   "metadata": {
    "collapsed": false
   },
   "outputs": [
    {
     "name": "stdout",
     "output_type": "stream",
     "text": [
      "This is the format of your plot grid:\n",
      "[ (1,1) x1,y1 ]  [ (1,2) x2,y2 ]\n",
      "\n"
     ]
    },
    {
     "data": {
      "application/vnd.plotly.v1+json": {
       "data": [
        {
         "marker": {
          "color": "rgba(50, 171, 96, 0.6)",
          "line": {
           "color": "rgba(50, 171, 96, 1.0)",
           "width": 1
          }
         },
         "name": "Household savings, percentage of household disposable income",
         "orientation": "h",
         "type": "bar",
         "x": [
          1.3586,
          2.2623,
          4.9822,
          6.5097,
          7.4812,
          7.5133,
          15.2148,
          17.5205
         ],
         "xaxis": "x1",
         "y": [
          "Japan",
          "United Kingdom",
          "Canada",
          "Netherlands",
          "United States",
          "Belgium",
          "Sweden",
          "Switzerland"
         ],
         "yaxis": "y1"
        },
        {
         "line": {
          "color": "rgb(128, 0, 128)"
         },
         "mode": "lines+markers",
         "name": "Household net worth, Million USD/capita",
         "type": "scatter",
         "x": [
          93453.92,
          81666.57,
          69889.62,
          78381.53,
          141395.3,
          92969.02,
          66090.18,
          122379.3
         ],
         "xaxis": "x2",
         "y": [
          "Japan",
          "United Kingdom",
          "Canada",
          "Netherlands",
          "United States",
          "Belgium",
          "Sweden",
          "Switzerland"
         ],
         "yaxis": "y2"
        }
       ],
       "layout": {
        "annotations": [
         {
          "font": {
           "color": "rgb(128, 0, 128)",
           "family": "Arial",
           "size": 12
          },
          "showarrow": false,
          "text": "93,454.0M",
          "x": 73454,
          "xref": "x2",
          "y": "Japan",
          "yref": "y2"
         },
         {
          "font": {
           "color": "rgb(50, 171, 96)",
           "family": "Arial",
           "size": 12
          },
          "showarrow": false,
          "text": "1.36%",
          "x": 4.36,
          "xref": "x1",
          "y": "Japan",
          "yref": "y1"
         },
         {
          "font": {
           "color": "rgb(128, 0, 128)",
           "family": "Arial",
           "size": 12
          },
          "showarrow": false,
          "text": "81,667.0M",
          "x": 61667,
          "xref": "x2",
          "y": "United Kingdom",
          "yref": "y2"
         },
         {
          "font": {
           "color": "rgb(50, 171, 96)",
           "family": "Arial",
           "size": 12
          },
          "showarrow": false,
          "text": "2.26%",
          "x": 5.26,
          "xref": "x1",
          "y": "United Kingdom",
          "yref": "y1"
         },
         {
          "font": {
           "color": "rgb(128, 0, 128)",
           "family": "Arial",
           "size": 12
          },
          "showarrow": false,
          "text": "69,890.0M",
          "x": 49890,
          "xref": "x2",
          "y": "Canada",
          "yref": "y2"
         },
         {
          "font": {
           "color": "rgb(50, 171, 96)",
           "family": "Arial",
           "size": 12
          },
          "showarrow": false,
          "text": "4.98%",
          "x": 7.98,
          "xref": "x1",
          "y": "Canada",
          "yref": "y1"
         },
         {
          "font": {
           "color": "rgb(128, 0, 128)",
           "family": "Arial",
           "size": 12
          },
          "showarrow": false,
          "text": "78,382.0M",
          "x": 58382,
          "xref": "x2",
          "y": "Netherlands",
          "yref": "y2"
         },
         {
          "font": {
           "color": "rgb(50, 171, 96)",
           "family": "Arial",
           "size": 12
          },
          "showarrow": false,
          "text": "6.51%",
          "x": 9.51,
          "xref": "x1",
          "y": "Netherlands",
          "yref": "y1"
         },
         {
          "font": {
           "color": "rgb(128, 0, 128)",
           "family": "Arial",
           "size": 12
          },
          "showarrow": false,
          "text": "141,395.0M",
          "x": 121395,
          "xref": "x2",
          "y": "United States",
          "yref": "y2"
         },
         {
          "font": {
           "color": "rgb(50, 171, 96)",
           "family": "Arial",
           "size": 12
          },
          "showarrow": false,
          "text": "7.48%",
          "x": 10.48,
          "xref": "x1",
          "y": "United States",
          "yref": "y1"
         },
         {
          "font": {
           "color": "rgb(128, 0, 128)",
           "family": "Arial",
           "size": 12
          },
          "showarrow": false,
          "text": "92,969.0M",
          "x": 72969,
          "xref": "x2",
          "y": "Belgium",
          "yref": "y2"
         },
         {
          "font": {
           "color": "rgb(50, 171, 96)",
           "family": "Arial",
           "size": 12
          },
          "showarrow": false,
          "text": "7.51%",
          "x": 10.51,
          "xref": "x1",
          "y": "Belgium",
          "yref": "y1"
         },
         {
          "font": {
           "color": "rgb(128, 0, 128)",
           "family": "Arial",
           "size": 12
          },
          "showarrow": false,
          "text": "66,090.0M",
          "x": 46090,
          "xref": "x2",
          "y": "Sweden",
          "yref": "y2"
         },
         {
          "font": {
           "color": "rgb(50, 171, 96)",
           "family": "Arial",
           "size": 12
          },
          "showarrow": false,
          "text": "15.21%",
          "x": 18.21,
          "xref": "x1",
          "y": "Sweden",
          "yref": "y1"
         },
         {
          "font": {
           "color": "rgb(128, 0, 128)",
           "family": "Arial",
           "size": 12
          },
          "showarrow": false,
          "text": "122,379.0M",
          "x": 102379,
          "xref": "x2",
          "y": "Switzerland",
          "yref": "y2"
         },
         {
          "font": {
           "color": "rgb(50, 171, 96)",
           "family": "Arial",
           "size": 12
          },
          "showarrow": false,
          "text": "17.52%",
          "x": 20.52,
          "xref": "x1",
          "y": "Switzerland",
          "yref": "y1"
         },
         {
          "font": {
           "color": "rgb(150,150,150)",
           "family": "Arial",
           "size": 10
          },
          "showarrow": false,
          "text": "OECD \"(2015), Household savings (indicator), Household net worth (indicator). doi: 10.1787/cfc6f499-en (Accessed on 05 June 2015)",
          "x": -0.2,
          "xref": "paper",
          "y": -0.109,
          "yref": "paper"
         }
        ],
        "legend": {
         "font": {
          "size": 10
         },
         "x": 0.029,
         "y": 1.038
        },
        "margin": {
         "b": 70,
         "l": 100,
         "r": 20,
         "t": 70
        },
        "paper_bgcolor": "rgb(248, 248, 255)",
        "plot_bgcolor": "rgb(248, 248, 255)",
        "title": "Household savings & net worth for eight OECD countries",
        "xaxis1": {
         "anchor": "y1",
         "domain": [
          0,
          0.42
         ],
         "showgrid": true,
         "showline": false,
         "showticklabels": true,
         "zeroline": false
        },
        "xaxis2": {
         "anchor": "y2",
         "domain": [
          0.47,
          1
         ],
         "dtick": 25000,
         "showgrid": true,
         "showline": false,
         "showticklabels": true,
         "side": "top",
         "zeroline": false
        },
        "yaxis1": {
         "anchor": "x1",
         "domain": [
          0,
          0.85
         ],
         "showgrid": false,
         "showline": false,
         "showticklabels": true
        },
        "yaxis2": {
         "anchor": "x2",
         "domain": [
          0,
          0.85
         ],
         "linecolor": "rgba(102, 102, 102, 0.8)",
         "linewidth": 2,
         "showgrid": false,
         "showline": true,
         "showticklabels": false
        }
       }
      },
      "text/html": [
       "<div id=\"0642d55d-8473-4249-b811-c5687ce7f9d5\" style=\"height: 525px; width: 100%;\" class=\"plotly-graph-div\"></div><script type=\"text/javascript\">require([\"plotly\"], function(Plotly) { window.PLOTLYENV=window.PLOTLYENV || {};window.PLOTLYENV.BASE_URL=\"https://plot.ly\";Plotly.newPlot(\"0642d55d-8473-4249-b811-c5687ce7f9d5\", [{\"yaxis\": \"y1\", \"y\": [\"Japan\", \"United Kingdom\", \"Canada\", \"Netherlands\", \"United States\", \"Belgium\", \"Sweden\", \"Switzerland\"], \"marker\": {\"color\": \"rgba(50, 171, 96, 0.6)\", \"line\": {\"width\": 1, \"color\": \"rgba(50, 171, 96, 1.0)\"}}, \"name\": \"Household savings, percentage of household disposable income\", \"type\": \"bar\", \"xaxis\": \"x1\", \"orientation\": \"h\", \"x\": [1.3586, 2.2623, 4.9822, 6.5097, 7.4812, 7.5133, 15.2148, 17.5205]}, {\"yaxis\": \"y2\", \"y\": [\"Japan\", \"United Kingdom\", \"Canada\", \"Netherlands\", \"United States\", \"Belgium\", \"Sweden\", \"Switzerland\"], \"mode\": \"lines+markers\", \"line\": {\"color\": \"rgb(128, 0, 128)\"}, \"type\": \"scatter\", \"x\": [93453.92, 81666.57, 69889.62, 78381.53, 141395.3, 92969.02, 66090.18, 122379.3], \"xaxis\": \"x2\", \"name\": \"Household net worth, Million USD/capita\"}], {\"annotations\": [{\"y\": \"Japan\", \"text\": \"93,454.0M\", \"xref\": \"x2\", \"yref\": \"y2\", \"x\": 73454.0, \"font\": {\"color\": \"rgb(128, 0, 128)\", \"size\": 12, \"family\": \"Arial\"}, \"showarrow\": false}, {\"y\": \"Japan\", \"text\": \"1.36%\", \"xref\": \"x1\", \"yref\": \"y1\", \"x\": 4.36, \"font\": {\"color\": \"rgb(50, 171, 96)\", \"size\": 12, \"family\": \"Arial\"}, \"showarrow\": false}, {\"y\": \"United Kingdom\", \"text\": \"81,667.0M\", \"xref\": \"x2\", \"yref\": \"y2\", \"x\": 61667.0, \"font\": {\"color\": \"rgb(128, 0, 128)\", \"size\": 12, \"family\": \"Arial\"}, \"showarrow\": false}, {\"y\": \"United Kingdom\", \"text\": \"2.26%\", \"xref\": \"x1\", \"yref\": \"y1\", \"x\": 5.26, \"font\": {\"color\": \"rgb(50, 171, 96)\", \"size\": 12, \"family\": \"Arial\"}, \"showarrow\": false}, {\"y\": \"Canada\", \"text\": \"69,890.0M\", \"xref\": \"x2\", \"yref\": \"y2\", \"x\": 49890.0, \"font\": {\"color\": \"rgb(128, 0, 128)\", \"size\": 12, \"family\": \"Arial\"}, \"showarrow\": false}, {\"y\": \"Canada\", \"text\": \"4.98%\", \"xref\": \"x1\", \"yref\": \"y1\", \"x\": 7.98, \"font\": {\"color\": \"rgb(50, 171, 96)\", \"size\": 12, \"family\": \"Arial\"}, \"showarrow\": false}, {\"y\": \"Netherlands\", \"text\": \"78,382.0M\", \"xref\": \"x2\", \"yref\": \"y2\", \"x\": 58382.0, \"font\": {\"color\": \"rgb(128, 0, 128)\", \"size\": 12, \"family\": \"Arial\"}, \"showarrow\": false}, {\"y\": \"Netherlands\", \"text\": \"6.51%\", \"xref\": \"x1\", \"yref\": \"y1\", \"x\": 9.51, \"font\": {\"color\": \"rgb(50, 171, 96)\", \"size\": 12, \"family\": \"Arial\"}, \"showarrow\": false}, {\"y\": \"United States\", \"text\": \"141,395.0M\", \"xref\": \"x2\", \"yref\": \"y2\", \"x\": 121395.0, \"font\": {\"color\": \"rgb(128, 0, 128)\", \"size\": 12, \"family\": \"Arial\"}, \"showarrow\": false}, {\"y\": \"United States\", \"text\": \"7.48%\", \"xref\": \"x1\", \"yref\": \"y1\", \"x\": 10.48, \"font\": {\"color\": \"rgb(50, 171, 96)\", \"size\": 12, \"family\": \"Arial\"}, \"showarrow\": false}, {\"y\": \"Belgium\", \"text\": \"92,969.0M\", \"xref\": \"x2\", \"yref\": \"y2\", \"x\": 72969.0, \"font\": {\"color\": \"rgb(128, 0, 128)\", \"size\": 12, \"family\": \"Arial\"}, \"showarrow\": false}, {\"y\": \"Belgium\", \"text\": \"7.51%\", \"xref\": \"x1\", \"yref\": \"y1\", \"x\": 10.51, \"font\": {\"color\": \"rgb(50, 171, 96)\", \"size\": 12, \"family\": \"Arial\"}, \"showarrow\": false}, {\"y\": \"Sweden\", \"text\": \"66,090.0M\", \"xref\": \"x2\", \"yref\": \"y2\", \"x\": 46090.0, \"font\": {\"color\": \"rgb(128, 0, 128)\", \"size\": 12, \"family\": \"Arial\"}, \"showarrow\": false}, {\"y\": \"Sweden\", \"text\": \"15.21%\", \"xref\": \"x1\", \"yref\": \"y1\", \"x\": 18.21, \"font\": {\"color\": \"rgb(50, 171, 96)\", \"size\": 12, \"family\": \"Arial\"}, \"showarrow\": false}, {\"y\": \"Switzerland\", \"text\": \"122,379.0M\", \"xref\": \"x2\", \"yref\": \"y2\", \"x\": 102379.0, \"font\": {\"color\": \"rgb(128, 0, 128)\", \"size\": 12, \"family\": \"Arial\"}, \"showarrow\": false}, {\"y\": \"Switzerland\", \"text\": \"17.52%\", \"xref\": \"x1\", \"yref\": \"y1\", \"x\": 20.52, \"font\": {\"color\": \"rgb(50, 171, 96)\", \"size\": 12, \"family\": \"Arial\"}, \"showarrow\": false}, {\"y\": -0.109, \"text\": \"OECD \\\"(2015), Household savings (indicator), Household net worth (indicator). doi: 10.1787/cfc6f499-en (Accessed on 05 June 2015)\", \"xref\": \"paper\", \"yref\": \"paper\", \"x\": -0.2, \"font\": {\"color\": \"rgb(150,150,150)\", \"size\": 10, \"family\": \"Arial\"}, \"showarrow\": false}], \"yaxis1\": {\"domain\": [0, 0.85], \"showline\": false, \"anchor\": \"x1\", \"showgrid\": false, \"showticklabels\": true}, \"yaxis2\": {\"linewidth\": 2, \"linecolor\": \"rgba(102, 102, 102, 0.8)\", \"anchor\": \"x2\", \"showline\": true, \"domain\": [0, 0.85], \"showgrid\": false, \"showticklabels\": false}, \"xaxis2\": {\"showline\": false, \"anchor\": \"y2\", \"showgrid\": true, \"zeroline\": false, \"domain\": [0.47, 1], \"showticklabels\": true, \"dtick\": 25000, \"side\": \"top\"}, \"legend\": {\"y\": 1.038, \"x\": 0.029, \"font\": {\"size\": 10}}, \"xaxis1\": {\"showline\": false, \"anchor\": \"y1\", \"zeroline\": false, \"domain\": [0, 0.42], \"showgrid\": true, \"showticklabels\": true}, \"title\": \"Household savings & net worth for eight OECD countries\", \"plot_bgcolor\": \"rgb(248, 248, 255)\", \"paper_bgcolor\": \"rgb(248, 248, 255)\", \"margin\": {\"t\": 70, \"b\": 70, \"l\": 100, \"r\": 20}}, {\"showLink\": true, \"linkText\": \"Export to plot.ly\"})});</script>"
      ],
      "text/vnd.plotly.v1+html": [
       "<div id=\"0642d55d-8473-4249-b811-c5687ce7f9d5\" style=\"height: 525px; width: 100%;\" class=\"plotly-graph-div\"></div><script type=\"text/javascript\">require([\"plotly\"], function(Plotly) { window.PLOTLYENV=window.PLOTLYENV || {};window.PLOTLYENV.BASE_URL=\"https://plot.ly\";Plotly.newPlot(\"0642d55d-8473-4249-b811-c5687ce7f9d5\", [{\"yaxis\": \"y1\", \"y\": [\"Japan\", \"United Kingdom\", \"Canada\", \"Netherlands\", \"United States\", \"Belgium\", \"Sweden\", \"Switzerland\"], \"marker\": {\"color\": \"rgba(50, 171, 96, 0.6)\", \"line\": {\"width\": 1, \"color\": \"rgba(50, 171, 96, 1.0)\"}}, \"name\": \"Household savings, percentage of household disposable income\", \"type\": \"bar\", \"xaxis\": \"x1\", \"orientation\": \"h\", \"x\": [1.3586, 2.2623, 4.9822, 6.5097, 7.4812, 7.5133, 15.2148, 17.5205]}, {\"yaxis\": \"y2\", \"y\": [\"Japan\", \"United Kingdom\", \"Canada\", \"Netherlands\", \"United States\", \"Belgium\", \"Sweden\", \"Switzerland\"], \"mode\": \"lines+markers\", \"line\": {\"color\": \"rgb(128, 0, 128)\"}, \"type\": \"scatter\", \"x\": [93453.92, 81666.57, 69889.62, 78381.53, 141395.3, 92969.02, 66090.18, 122379.3], \"xaxis\": \"x2\", \"name\": \"Household net worth, Million USD/capita\"}], {\"annotations\": [{\"y\": \"Japan\", \"text\": \"93,454.0M\", \"xref\": \"x2\", \"yref\": \"y2\", \"x\": 73454.0, \"font\": {\"color\": \"rgb(128, 0, 128)\", \"size\": 12, \"family\": \"Arial\"}, \"showarrow\": false}, {\"y\": \"Japan\", \"text\": \"1.36%\", \"xref\": \"x1\", \"yref\": \"y1\", \"x\": 4.36, \"font\": {\"color\": \"rgb(50, 171, 96)\", \"size\": 12, \"family\": \"Arial\"}, \"showarrow\": false}, {\"y\": \"United Kingdom\", \"text\": \"81,667.0M\", \"xref\": \"x2\", \"yref\": \"y2\", \"x\": 61667.0, \"font\": {\"color\": \"rgb(128, 0, 128)\", \"size\": 12, \"family\": \"Arial\"}, \"showarrow\": false}, {\"y\": \"United Kingdom\", \"text\": \"2.26%\", \"xref\": \"x1\", \"yref\": \"y1\", \"x\": 5.26, \"font\": {\"color\": \"rgb(50, 171, 96)\", \"size\": 12, \"family\": \"Arial\"}, \"showarrow\": false}, {\"y\": \"Canada\", \"text\": \"69,890.0M\", \"xref\": \"x2\", \"yref\": \"y2\", \"x\": 49890.0, \"font\": {\"color\": \"rgb(128, 0, 128)\", \"size\": 12, \"family\": \"Arial\"}, \"showarrow\": false}, {\"y\": \"Canada\", \"text\": \"4.98%\", \"xref\": \"x1\", \"yref\": \"y1\", \"x\": 7.98, \"font\": {\"color\": \"rgb(50, 171, 96)\", \"size\": 12, \"family\": \"Arial\"}, \"showarrow\": false}, {\"y\": \"Netherlands\", \"text\": \"78,382.0M\", \"xref\": \"x2\", \"yref\": \"y2\", \"x\": 58382.0, \"font\": {\"color\": \"rgb(128, 0, 128)\", \"size\": 12, \"family\": \"Arial\"}, \"showarrow\": false}, {\"y\": \"Netherlands\", \"text\": \"6.51%\", \"xref\": \"x1\", \"yref\": \"y1\", \"x\": 9.51, \"font\": {\"color\": \"rgb(50, 171, 96)\", \"size\": 12, \"family\": \"Arial\"}, \"showarrow\": false}, {\"y\": \"United States\", \"text\": \"141,395.0M\", \"xref\": \"x2\", \"yref\": \"y2\", \"x\": 121395.0, \"font\": {\"color\": \"rgb(128, 0, 128)\", \"size\": 12, \"family\": \"Arial\"}, \"showarrow\": false}, {\"y\": \"United States\", \"text\": \"7.48%\", \"xref\": \"x1\", \"yref\": \"y1\", \"x\": 10.48, \"font\": {\"color\": \"rgb(50, 171, 96)\", \"size\": 12, \"family\": \"Arial\"}, \"showarrow\": false}, {\"y\": \"Belgium\", \"text\": \"92,969.0M\", \"xref\": \"x2\", \"yref\": \"y2\", \"x\": 72969.0, \"font\": {\"color\": \"rgb(128, 0, 128)\", \"size\": 12, \"family\": \"Arial\"}, \"showarrow\": false}, {\"y\": \"Belgium\", \"text\": \"7.51%\", \"xref\": \"x1\", \"yref\": \"y1\", \"x\": 10.51, \"font\": {\"color\": \"rgb(50, 171, 96)\", \"size\": 12, \"family\": \"Arial\"}, \"showarrow\": false}, {\"y\": \"Sweden\", \"text\": \"66,090.0M\", \"xref\": \"x2\", \"yref\": \"y2\", \"x\": 46090.0, \"font\": {\"color\": \"rgb(128, 0, 128)\", \"size\": 12, \"family\": \"Arial\"}, \"showarrow\": false}, {\"y\": \"Sweden\", \"text\": \"15.21%\", \"xref\": \"x1\", \"yref\": \"y1\", \"x\": 18.21, \"font\": {\"color\": \"rgb(50, 171, 96)\", \"size\": 12, \"family\": \"Arial\"}, \"showarrow\": false}, {\"y\": \"Switzerland\", \"text\": \"122,379.0M\", \"xref\": \"x2\", \"yref\": \"y2\", \"x\": 102379.0, \"font\": {\"color\": \"rgb(128, 0, 128)\", \"size\": 12, \"family\": \"Arial\"}, \"showarrow\": false}, {\"y\": \"Switzerland\", \"text\": \"17.52%\", \"xref\": \"x1\", \"yref\": \"y1\", \"x\": 20.52, \"font\": {\"color\": \"rgb(50, 171, 96)\", \"size\": 12, \"family\": \"Arial\"}, \"showarrow\": false}, {\"y\": -0.109, \"text\": \"OECD \\\"(2015), Household savings (indicator), Household net worth (indicator). doi: 10.1787/cfc6f499-en (Accessed on 05 June 2015)\", \"xref\": \"paper\", \"yref\": \"paper\", \"x\": -0.2, \"font\": {\"color\": \"rgb(150,150,150)\", \"size\": 10, \"family\": \"Arial\"}, \"showarrow\": false}], \"yaxis1\": {\"domain\": [0, 0.85], \"showline\": false, \"anchor\": \"x1\", \"showgrid\": false, \"showticklabels\": true}, \"yaxis2\": {\"linewidth\": 2, \"linecolor\": \"rgba(102, 102, 102, 0.8)\", \"anchor\": \"x2\", \"showline\": true, \"domain\": [0, 0.85], \"showgrid\": false, \"showticklabels\": false}, \"xaxis2\": {\"showline\": false, \"anchor\": \"y2\", \"showgrid\": true, \"zeroline\": false, \"domain\": [0.47, 1], \"showticklabels\": true, \"dtick\": 25000, \"side\": \"top\"}, \"legend\": {\"y\": 1.038, \"x\": 0.029, \"font\": {\"size\": 10}}, \"xaxis1\": {\"showline\": false, \"anchor\": \"y1\", \"zeroline\": false, \"domain\": [0, 0.42], \"showgrid\": true, \"showticklabels\": true}, \"title\": \"Household savings & net worth for eight OECD countries\", \"plot_bgcolor\": \"rgb(248, 248, 255)\", \"paper_bgcolor\": \"rgb(248, 248, 255)\", \"margin\": {\"t\": 70, \"b\": 70, \"l\": 100, \"r\": 20}}, {\"showLink\": true, \"linkText\": \"Export to plot.ly\"})});</script>"
      ]
     },
     "metadata": {},
     "output_type": "display_data"
    }
   ],
   "source": [
    "import plotly.plotly as py\n",
    "import plotly.graph_objs as go\n",
    "from plotly import tools\n",
    "\n",
    "import numpy as np\n",
    "\n",
    "y_saving = [1.3586, 2.2623000000000002, 4.9821999999999997, 6.5096999999999996,\n",
    "            7.4812000000000003, 7.5133000000000001, 15.2148, 17.520499999999998\n",
    "            ]\n",
    "y_net_worth = [93453.919999999998, 81666.570000000007, 69889.619999999995,\n",
    "               78381.529999999999, 141395.29999999999, 92969.020000000004,\n",
    "               66090.179999999993, 122379.3]\n",
    "x_saving = ['Japan', 'United Kingdom', 'Canada', 'Netherlands',\n",
    "            'United States', 'Belgium', 'Sweden', 'Switzerland']\n",
    "x_net_worth = ['Japan', 'United Kingdom', 'Canada', 'Netherlands',\n",
    "               'United States', 'Belgium', 'Sweden', 'Switzerland'\n",
    "               ]\n",
    "trace0 = go.Bar(\n",
    "    x=y_saving,\n",
    "    y=x_saving,\n",
    "    marker=dict(\n",
    "        color='rgba(50, 171, 96, 0.6)',\n",
    "        line=dict(\n",
    "            color='rgba(50, 171, 96, 1.0)',\n",
    "            width=1),\n",
    "    ),\n",
    "    name='Household savings, percentage of household disposable income',\n",
    "    orientation='h',\n",
    ")\n",
    "trace1 = go.Scatter(\n",
    "    x=y_net_worth,\n",
    "    y=x_net_worth,\n",
    "    mode='lines+markers',\n",
    "    line=dict(\n",
    "        color='rgb(128, 0, 128)'),\n",
    "    name='Household net worth, Million USD/capita',\n",
    ")\n",
    "layout = dict(\n",
    "    title='Household savings & net worth for eight OECD countries',\n",
    "    yaxis1=dict(\n",
    "        showgrid=False,\n",
    "        showline=False,\n",
    "        showticklabels=True,\n",
    "        domain=[0, 0.85],\n",
    "    ),\n",
    "    yaxis2=dict(\n",
    "        showgrid=False,\n",
    "        showline=True,\n",
    "        showticklabels=False,\n",
    "        linecolor='rgba(102, 102, 102, 0.8)',\n",
    "        linewidth=2,\n",
    "        domain=[0, 0.85],\n",
    "    ),\n",
    "    xaxis1=dict(\n",
    "        zeroline=False,\n",
    "        showline=False,\n",
    "        showticklabels=True,\n",
    "        showgrid=True,\n",
    "        domain=[0, 0.42],\n",
    "    ),\n",
    "    xaxis2=dict(\n",
    "        zeroline=False,\n",
    "        showline=False,\n",
    "        showticklabels=True,\n",
    "        showgrid=True,\n",
    "        domain=[0.47, 1],\n",
    "        side='top',\n",
    "        dtick=25000,\n",
    "    ),\n",
    "    legend=dict(\n",
    "        x=0.029,\n",
    "        y=1.038,\n",
    "        font=dict(\n",
    "            size=10,\n",
    "        ),\n",
    "    ),\n",
    "    margin=dict(\n",
    "        l=100,\n",
    "        r=20,\n",
    "        t=70,\n",
    "        b=70,\n",
    "    ),\n",
    "    paper_bgcolor='rgb(248, 248, 255)',\n",
    "    plot_bgcolor='rgb(248, 248, 255)',\n",
    ")\n",
    "\n",
    "annotations = []\n",
    "\n",
    "y_s = np.round(y_saving, decimals=2)\n",
    "y_nw = np.rint(y_net_worth)\n",
    "\n",
    "# Adding labels\n",
    "for ydn, yd, xd in zip(y_nw, y_s, x_saving):\n",
    "    # labeling the scatter savings\n",
    "    annotations.append(dict(xref='x2', yref='y2',\n",
    "                            y=xd, x=ydn - 20000,\n",
    "                            text='{:,}'.format(ydn) + 'M',\n",
    "                            font=dict(family='Arial', size=12,\n",
    "                                      color='rgb(128, 0, 128)'),\n",
    "                            showarrow=False))\n",
    "    # labeling the bar net worth\n",
    "    annotations.append(dict(xref='x1', yref='y1',\n",
    "                            y=xd, x=yd + 3,\n",
    "                            text=str(yd) + '%',\n",
    "                            font=dict(family='Arial', size=12,\n",
    "                                      color='rgb(50, 171, 96)'),\n",
    "                            showarrow=False))\n",
    "# Source\n",
    "annotations.append(dict(xref='paper', yref='paper',\n",
    "                        x=-0.2, y=-0.109,\n",
    "                        text='OECD \"' +\n",
    "                             '(2015), Household savings (indicator), ' +\n",
    "                             'Household net worth (indicator). doi: ' +\n",
    "                             '10.1787/cfc6f499-en (Accessed on 05 June 2015)',\n",
    "                        font=dict(family='Arial', size=10,\n",
    "                                  color='rgb(150,150,150)'),\n",
    "                        showarrow=False))\n",
    "\n",
    "layout['annotations'] = annotations\n",
    "\n",
    "# Creating two subplots\n",
    "fig = tools.make_subplots(rows=1, cols=2, specs=[[{}, {}]], shared_xaxes=True,\n",
    "                          shared_yaxes=False, vertical_spacing=0.001)\n",
    "\n",
    "fig.append_trace(trace0, 1, 1)\n",
    "fig.append_trace(trace1, 1, 2)\n",
    "\n",
    "fig['layout'].update(layout)\n",
    "plotly.offline.iplot(fig, filename='oecd-networth-saving-bar-line')"
   ]
  },
  {
   "cell_type": "markdown",
   "metadata": {},
   "source": [
    "### Reference\n",
    "See more examples of bar charts and styling options [here](https://plot.ly/python/bar-charts/).<br> See https://plot.ly/python/reference/#bar for more information and chart attribute options!"
   ]
  },
  {
   "cell_type": "code",
   "execution_count": null,
   "metadata": {
    "collapsed": true
   },
   "outputs": [],
   "source": []
  }
 ],
 "metadata": {
  "anaconda-cloud": {},
  "kernelspec": {
   "display_name": "Python [default]",
   "language": "python",
   "name": "python3"
  },
  "language_info": {
   "codemirror_mode": {
    "name": "ipython",
    "version": 3
   },
   "file_extension": ".py",
   "mimetype": "text/x-python",
   "name": "python",
   "nbconvert_exporter": "python",
   "pygments_lexer": "ipython3",
   "version": "3.5.4"
  }
 },
 "nbformat": 4,
 "nbformat_minor": 0
}
