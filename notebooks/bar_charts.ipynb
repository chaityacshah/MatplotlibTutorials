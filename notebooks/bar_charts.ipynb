{
 "cells": [
  {
   "cell_type": "markdown",
   "metadata": {},
   "source": [
    "#### New to Plotly?\n",
    "Plotly's Python library is free and open source! [Get started](https://plot.ly/python/getting-started/) by downloading the client and [reading the primer](https://plot.ly/python/getting-started/).\n",
    "<br>You can set up Plotly to work in [online](https://plot.ly/python/getting-started/#initialization-for-online-plotting) or [offline](https://plot.ly/python/getting-started/#initialization-for-offline-plotting) mode, or in [jupyter notebooks](https://plot.ly/python/getting-started/#start-plotting-online).\n",
    "<br>We also have a quick-reference [cheatsheet](https://images.plot.ly/plotly-documentation/images/python_cheat_sheet.pdf) (new!) to help you get started!\n",
    "#### Version Check\n",
    "Plotly's python package is updated frequently. Run `pip install plotly --upgrade` to use the latest version. "
   ]
  },
  {
   "cell_type": "code",
   "execution_count": 2,
   "metadata": {
    "collapsed": false
   },
   "outputs": [
    {
     "data": {
      "text/html": [
       "<script>requirejs.config({paths: { 'plotly': ['https://cdn.plot.ly/plotly-latest.min']},});if(!window.Plotly) {{require(['plotly'],function(plotly) {window.Plotly=plotly;});}}</script>"
      ],
      "text/vnd.plotly.v1+html": [
       "<script>requirejs.config({paths: { 'plotly': ['https://cdn.plot.ly/plotly-latest.min']},});if(!window.Plotly) {{require(['plotly'],function(plotly) {window.Plotly=plotly;});}}</script>"
      ]
     },
     "metadata": {},
     "output_type": "display_data"
    }
   ],
   "source": [
    "import plotly\n",
    "plotly.__version__\n",
    "import plotly.plotly as py\n",
    "import plotly.graph_objs as go\n",
    "import random\n",
    "import numpy as np\n",
    "import pandas as pd\n",
    "from plotly.offline import init_notebook_mode, plot\n",
    "init_notebook_mode(connected=True)"
   ]
  },
  {
   "cell_type": "markdown",
   "metadata": {},
   "source": [
    "#### Basic Bar Chart"
   ]
  },
  {
   "cell_type": "code",
   "execution_count": 3,
   "metadata": {
    "collapsed": false
   },
   "outputs": [
    {
     "data": {
      "application/vnd.plotly.v1+json": {
       "data": [
        {
         "type": "bar",
         "x": [
          "giraffes",
          "orangutans",
          "monkeys"
         ],
         "y": [
          20,
          14,
          23
         ]
        }
       ],
       "layout": {}
      },
      "text/html": [
       "<div id=\"5bf87352-f030-4624-8018-61dfa0865acd\" style=\"height: 525px; width: 100%;\" class=\"plotly-graph-div\"></div><script type=\"text/javascript\">require([\"plotly\"], function(Plotly) { window.PLOTLYENV=window.PLOTLYENV || {};window.PLOTLYENV.BASE_URL=\"https://plot.ly\";Plotly.newPlot(\"5bf87352-f030-4624-8018-61dfa0865acd\", [{\"y\": [20, 14, 23], \"type\": \"bar\", \"x\": [\"giraffes\", \"orangutans\", \"monkeys\"]}], {}, {\"showLink\": true, \"linkText\": \"Export to plot.ly\"})});</script>"
      ],
      "text/vnd.plotly.v1+html": [
       "<div id=\"5bf87352-f030-4624-8018-61dfa0865acd\" style=\"height: 525px; width: 100%;\" class=\"plotly-graph-div\"></div><script type=\"text/javascript\">require([\"plotly\"], function(Plotly) { window.PLOTLYENV=window.PLOTLYENV || {};window.PLOTLYENV.BASE_URL=\"https://plot.ly\";Plotly.newPlot(\"5bf87352-f030-4624-8018-61dfa0865acd\", [{\"y\": [20, 14, 23], \"type\": \"bar\", \"x\": [\"giraffes\", \"orangutans\", \"monkeys\"]}], {}, {\"showLink\": true, \"linkText\": \"Export to plot.ly\"})});</script>"
      ]
     },
     "metadata": {},
     "output_type": "display_data"
    }
   ],
   "source": [
    "import plotly.plotly as py\n",
    "import plotly.graph_objs as go\n",
    "\n",
    "data = [go.Bar(\n",
    "            x=['giraffes', 'orangutans', 'monkeys'],\n",
    "            y=[20, 14, 23]\n",
    "    )]\n",
    "\n",
    "#py.iplot(data, filename='basic-bar')\n",
    "plotly.offline.iplot(data, filename='plots/WebGLMillion.html')"
   ]
  },
  {
   "cell_type": "markdown",
   "metadata": {},
   "source": [
    "#### Grouped Bar Chart"
   ]
  },
  {
   "cell_type": "code",
   "execution_count": 4,
   "metadata": {
    "collapsed": false
   },
   "outputs": [
    {
     "data": {
      "text/html": [
       "<iframe id=\"igraph\" scrolling=\"no\" style=\"border:none;\" seamless=\"seamless\" src=\"https://plot.ly/~PythonPlotBot/793.embed\" height=\"525px\" width=\"100%\"></iframe>"
      ],
      "text/plain": [
       "<plotly.tools.PlotlyDisplay object>"
      ]
     },
     "execution_count": 4,
     "metadata": {},
     "output_type": "execute_result"
    }
   ],
   "source": [
    "import plotly.plotly as py\n",
    "import plotly.graph_objs as go\n",
    "\n",
    "trace1 = go.Bar(\n",
    "    x=['giraffes', 'orangutans', 'monkeys'],\n",
    "    y=[20, 14, 23],\n",
    "    name='SF Zoo'\n",
    ")\n",
    "trace2 = go.Bar(\n",
    "    x=['giraffes', 'orangutans', 'monkeys'],\n",
    "    y=[12, 18, 29],\n",
    "    name='LA Zoo'\n",
    ")\n",
    "\n",
    "data = [trace1, trace2]\n",
    "layout = go.Layout(\n",
    "    barmode='group'\n",
    ")\n",
    "\n",
    "fig = go.Figure(data=data, layout=layout)\n",
    "py.iplot(fig, filename='grouped-bar')"
   ]
  },
  {
   "cell_type": "markdown",
   "metadata": {},
   "source": [
    "### Stacked Bar Chart"
   ]
  },
  {
   "cell_type": "code",
   "execution_count": 5,
   "metadata": {
    "collapsed": false
   },
   "outputs": [
    {
     "data": {
      "text/html": [
       "<iframe id=\"igraph\" scrolling=\"no\" style=\"border:none;\" seamless=\"seamless\" src=\"https://plot.ly/~PythonPlotBot/795.embed\" height=\"525px\" width=\"100%\"></iframe>"
      ],
      "text/plain": [
       "<plotly.tools.PlotlyDisplay object>"
      ]
     },
     "execution_count": 5,
     "metadata": {},
     "output_type": "execute_result"
    }
   ],
   "source": [
    "import plotly.plotly as py\n",
    "import plotly.graph_objs as go\n",
    "\n",
    "trace1 = go.Bar(\n",
    "    x=['giraffes', 'orangutans', 'monkeys'],\n",
    "    y=[20, 14, 23],\n",
    "    name='SF Zoo'\n",
    ")\n",
    "trace2 = go.Bar(\n",
    "    x=['giraffes', 'orangutans', 'monkeys'],\n",
    "    y=[12, 18, 29],\n",
    "    name='LA Zoo'\n",
    ")\n",
    "\n",
    "data = [trace1, trace2]\n",
    "layout = go.Layout(\n",
    "    barmode='stack'\n",
    ")\n",
    "\n",
    "fig = go.Figure(data=data, layout=layout)\n",
    "py.iplot(fig, filename='stacked-bar')"
   ]
  },
  {
   "cell_type": "markdown",
   "metadata": {},
   "source": [
    "### Bar Chart with Hover Text"
   ]
  },
  {
   "cell_type": "code",
   "execution_count": 6,
   "metadata": {
    "collapsed": false
   },
   "outputs": [
    {
     "data": {
      "text/html": [
       "<iframe id=\"igraph\" scrolling=\"no\" style=\"border:none;\" seamless=\"seamless\" src=\"https://plot.ly/~PythonPlotBot/797.embed\" height=\"525px\" width=\"100%\"></iframe>"
      ],
      "text/plain": [
       "<plotly.tools.PlotlyDisplay object>"
      ]
     },
     "execution_count": 6,
     "metadata": {},
     "output_type": "execute_result"
    }
   ],
   "source": [
    "import plotly.plotly as py\n",
    "import plotly.graph_objs as go\n",
    "\n",
    "trace0 = go.Bar(\n",
    "    x=['Product A', 'Product B', 'Product C'],\n",
    "    y=[20, 14, 23],\n",
    "    text=['27% market share', '24% market share', '19% market share'],\n",
    "    marker=dict(\n",
    "        color='rgb(158,202,225)',\n",
    "        line=dict(\n",
    "            color='rgb(8,48,107)',\n",
    "            width=1.5,\n",
    "        )\n",
    "    ),\n",
    "    opacity=0.6\n",
    ")\n",
    "\n",
    "data = [trace0]\n",
    "layout = go.Layout(\n",
    "    title='January 2013 Sales Report',\n",
    ")\n",
    "\n",
    "fig = go.Figure(data=data, layout=layout)\n",
    "py.iplot(fig, filename='text-hover-bar')"
   ]
  },
  {
   "cell_type": "markdown",
   "metadata": {},
   "source": [
    "### Bar Chart with Direct Labels"
   ]
  },
  {
   "cell_type": "code",
   "execution_count": 7,
   "metadata": {
    "collapsed": false
   },
   "outputs": [
    {
     "data": {
      "text/html": [
       "<iframe id=\"igraph\" scrolling=\"no\" style=\"border:none;\" seamless=\"seamless\" src=\"https://plot.ly/~PythonPlotBot/799.embed\" height=\"525px\" width=\"100%\"></iframe>"
      ],
      "text/plain": [
       "<plotly.tools.PlotlyDisplay object>"
      ]
     },
     "execution_count": 7,
     "metadata": {},
     "output_type": "execute_result"
    }
   ],
   "source": [
    "import plotly.plotly as py\n",
    "import plotly.graph_objs as go\n",
    "\n",
    "x = ['Product A', 'Product B', 'Product C']\n",
    "y = [20, 14, 23]\n",
    "\n",
    "data = [go.Bar(\n",
    "            x=x,\n",
    "            y=y,\n",
    "            text=y,\n",
    "            textposition = 'auto',\n",
    "            marker=dict(\n",
    "                color='rgb(158,202,225)',\n",
    "                line=dict(\n",
    "                    color='rgb(8,48,107)',\n",
    "                    width=1.5),\n",
    "            ),\n",
    "            opacity=0.6\n",
    "        )]\n",
    "\n",
    "py.iplot(data, filename='bar-direct-labels')"
   ]
  },
  {
   "cell_type": "markdown",
   "metadata": {},
   "source": [
    "### Grouped Bar Chart with Direct Labels"
   ]
  },
  {
   "cell_type": "code",
   "execution_count": 8,
   "metadata": {
    "collapsed": false
   },
   "outputs": [
    {
     "data": {
      "text/html": [
       "<iframe id=\"igraph\" scrolling=\"no\" style=\"border:none;\" seamless=\"seamless\" src=\"https://plot.ly/~PythonPlotBot/2454.embed\" height=\"525px\" width=\"100%\"></iframe>"
      ],
      "text/plain": [
       "<plotly.tools.PlotlyDisplay object>"
      ]
     },
     "execution_count": 8,
     "metadata": {},
     "output_type": "execute_result"
    }
   ],
   "source": [
    "import plotly.plotly as py\n",
    "import plotly.graph_objs as go\n",
    "\n",
    "x = ['Product A', 'Product B', 'Product C']\n",
    "y = [20, 14, 23]\n",
    "y2 = [16,12,27]\n",
    "\n",
    "trace1 = go.Bar(\n",
    "    x=x,\n",
    "    y=y,\n",
    "    text=y,\n",
    "    textposition = 'auto',\n",
    "    marker=dict(\n",
    "        color='rgb(158,202,225)',\n",
    "        line=dict(\n",
    "            color='rgb(8,48,107)',\n",
    "            width=1.5),\n",
    "        ),\n",
    "    opacity=0.6\n",
    ")\n",
    "\n",
    "trace2 = go.Bar(\n",
    "    x=x,\n",
    "    y=y2,\n",
    "    text=y2,\n",
    "    textposition = 'auto',\n",
    "    marker=dict(\n",
    "        color='rgb(58,200,225)',\n",
    "        line=dict(\n",
    "            color='rgb(8,48,107)',\n",
    "            width=1.5),\n",
    "        ),\n",
    "    opacity=0.6\n",
    ")\n",
    "\n",
    "data = [trace1,trace2]\n",
    "\n",
    "py.iplot(data, filename='grouped-bar-direct-labels')"
   ]
  },
  {
   "cell_type": "markdown",
   "metadata": {},
   "source": [
    "### Rotated Bar Chart Labels"
   ]
  },
  {
   "cell_type": "code",
   "execution_count": 9,
   "metadata": {
    "collapsed": false
   },
   "outputs": [
    {
     "data": {
      "text/html": [
       "<iframe id=\"igraph\" scrolling=\"no\" style=\"border:none;\" seamless=\"seamless\" src=\"https://plot.ly/~PythonPlotBot/801.embed\" height=\"525px\" width=\"100%\"></iframe>"
      ],
      "text/plain": [
       "<plotly.tools.PlotlyDisplay object>"
      ]
     },
     "execution_count": 9,
     "metadata": {},
     "output_type": "execute_result"
    }
   ],
   "source": [
    "import plotly.plotly as py\n",
    "import plotly.graph_objs as go\n",
    "\n",
    "trace0 = go.Bar(\n",
    "    x=['Jan', 'Feb', 'Mar', 'Apr', 'May', 'Jun',\n",
    "       'Jul', 'Aug', 'Sep', 'Oct', 'Nov', 'Dec'],\n",
    "    y=[20, 14, 25, 16, 18, 22, 19, 15, 12, 16, 14, 17],\n",
    "    name='Primary Product',\n",
    "    marker=dict(\n",
    "        color='rgb(49,130,189)'\n",
    "    )\n",
    ")\n",
    "trace1 = go.Bar(\n",
    "    x=['Jan', 'Feb', 'Mar', 'Apr', 'May', 'Jun',\n",
    "       'Jul', 'Aug', 'Sep', 'Oct', 'Nov', 'Dec'],\n",
    "    y=[19, 14, 22, 14, 16, 19, 15, 14, 10, 12, 12, 16],\n",
    "    name='Secondary Product',\n",
    "    marker=dict(\n",
    "        color='rgb(204,204,204)',\n",
    "    )\n",
    ")\n",
    "\n",
    "data = [trace0, trace1]\n",
    "layout = go.Layout(\n",
    "    xaxis=dict(tickangle=-45),\n",
    "    barmode='group',\n",
    ")\n",
    "\n",
    "fig = go.Figure(data=data, layout=layout)\n",
    "py.iplot(fig, filename='angled-text-bar')"
   ]
  },
  {
   "cell_type": "markdown",
   "metadata": {},
   "source": [
    "### Customizing Individual Bar Colors"
   ]
  },
  {
   "cell_type": "code",
   "execution_count": 10,
   "metadata": {
    "collapsed": false
   },
   "outputs": [
    {
     "data": {
      "text/html": [
       "<iframe id=\"igraph\" scrolling=\"no\" style=\"border:none;\" seamless=\"seamless\" src=\"https://plot.ly/~PythonPlotBot/803.embed\" height=\"525px\" width=\"100%\"></iframe>"
      ],
      "text/plain": [
       "<plotly.tools.PlotlyDisplay object>"
      ]
     },
     "execution_count": 10,
     "metadata": {},
     "output_type": "execute_result"
    }
   ],
   "source": [
    "import plotly.plotly as py\n",
    "import plotly.graph_objs as go\n",
    "\n",
    "trace0 = go.Bar(\n",
    "    x=['Feature A', 'Feature B', 'Feature C',\n",
    "       'Feature D', 'Feature E'],\n",
    "    y=[20, 14, 23, 25, 22],\n",
    "    marker=dict(\n",
    "        color=['rgba(204,204,204,1)', 'rgba(222,45,38,0.8)',\n",
    "               'rgba(204,204,204,1)', 'rgba(204,204,204,1)',\n",
    "               'rgba(204,204,204,1)']),\n",
    ")\n",
    "\n",
    "data = [trace0]\n",
    "layout = go.Layout(\n",
    "    title='Least Used Feature',\n",
    ")\n",
    "\n",
    "fig = go.Figure(data=data, layout=layout)\n",
    "py.iplot(fig, filename='color-bar')"
   ]
  },
  {
   "cell_type": "markdown",
   "metadata": {},
   "source": [
    "### Customizing Individual Bar Widths"
   ]
  },
  {
   "cell_type": "code",
   "execution_count": 11,
   "metadata": {
    "collapsed": false
   },
   "outputs": [
    {
     "data": {
      "text/html": [
       "<iframe id=\"igraph\" scrolling=\"no\" style=\"border:none;\" seamless=\"seamless\" src=\"https://plot.ly/~PythonPlotBot/2047.embed\" height=\"525px\" width=\"100%\"></iframe>"
      ],
      "text/plain": [
       "<plotly.tools.PlotlyDisplay object>"
      ]
     },
     "execution_count": 11,
     "metadata": {},
     "output_type": "execute_result"
    }
   ],
   "source": [
    "import plotly.plotly as py\n",
    "import plotly.graph_objs as go\n",
    "\n",
    "trace0 = go.Bar(\n",
    "    x=[1, 2, 3, 5.5, 10],\n",
    "    y=[10, 8, 6, 4, 2],\n",
    "    width = [0.8, 0.8, 0.8, 3.5, 4]\n",
    ")\n",
    "\n",
    "data = [trace0]\n",
    "\n",
    "fig = go.Figure(data=data)\n",
    "py.iplot(fig, filename='width-bar')"
   ]
  },
  {
   "cell_type": "markdown",
   "metadata": {},
   "source": [
    "### Bar Chart with Hover Text"
   ]
  },
  {
   "cell_type": "code",
   "execution_count": 12,
   "metadata": {
    "collapsed": false
   },
   "outputs": [
    {
     "data": {
      "text/html": [
       "<iframe id=\"igraph\" scrolling=\"no\" style=\"border:none;\" seamless=\"seamless\" src=\"https://plot.ly/~PythonPlotBot/797.embed\" height=\"525px\" width=\"100%\"></iframe>"
      ],
      "text/plain": [
       "<plotly.tools.PlotlyDisplay object>"
      ]
     },
     "execution_count": 12,
     "metadata": {},
     "output_type": "execute_result"
    }
   ],
   "source": [
    "import plotly.plotly as py\n",
    "import plotly.graph_objs as go\n",
    "\n",
    "trace0 = go.Bar(\n",
    "    x=['Product A', 'Product B', 'Product C'],\n",
    "    y=[20, 14, 23],\n",
    "    text=['27% market share', '24% market share', '19% market share'],\n",
    "    marker=dict(\n",
    "        color='rgb(158,202,225)',\n",
    "        line=dict(\n",
    "            color='rgb(8,48,107)',\n",
    "            width=1.5,\n",
    "        )\n",
    "    ),\n",
    "    opacity=0.6\n",
    ")\n",
    "\n",
    "data = [trace0]\n",
    "layout = go.Layout(\n",
    "    title='January 2013 Sales Report',\n",
    ")\n",
    "\n",
    "fig = go.Figure(data=data, layout=layout)\n",
    "py.iplot(fig, filename='text-hover-bar')"
   ]
  },
  {
   "cell_type": "markdown",
   "metadata": {},
   "source": [
    "### Colored and Styled Bar Chart"
   ]
  },
  {
   "cell_type": "code",
   "execution_count": 13,
   "metadata": {
    "collapsed": false
   },
   "outputs": [
    {
     "data": {
      "text/html": [
       "<iframe id=\"igraph\" scrolling=\"no\" style=\"border:none;\" seamless=\"seamless\" src=\"https://plot.ly/~PythonPlotBot/805.embed\" height=\"525px\" width=\"100%\"></iframe>"
      ],
      "text/plain": [
       "<plotly.tools.PlotlyDisplay object>"
      ]
     },
     "execution_count": 13,
     "metadata": {},
     "output_type": "execute_result"
    }
   ],
   "source": [
    "import plotly.plotly as py\n",
    "import plotly.graph_objs as go\n",
    "\n",
    "trace1 = go.Bar(\n",
    "    x=[1995, 1996, 1997, 1998, 1999, 2000, 2001, 2002, 2003,\n",
    "       2004, 2005, 2006, 2007, 2008, 2009, 2010, 2011, 2012],\n",
    "    y=[219, 146, 112, 127, 124, 180, 236, 207, 236, 263,\n",
    "       350, 430, 474, 526, 488, 537, 500, 439],\n",
    "    name='Rest of world',\n",
    "    marker=dict(\n",
    "        color='rgb(55, 83, 109)'\n",
    "    )\n",
    ")\n",
    "trace2 = go.Bar(\n",
    "    x=[1995, 1996, 1997, 1998, 1999, 2000, 2001, 2002, 2003,\n",
    "       2004, 2005, 2006, 2007, 2008, 2009, 2010, 2011, 2012],\n",
    "    y=[16, 13, 10, 11, 28, 37, 43, 55, 56, 88, 105, 156, 270,\n",
    "       299, 340, 403, 549, 499],\n",
    "    name='China',\n",
    "    marker=dict(\n",
    "        color='rgb(26, 118, 255)'\n",
    "    )\n",
    ")\n",
    "data = [trace1, trace2]\n",
    "layout = go.Layout(\n",
    "    title='US Export of Plastic Scrap',\n",
    "    xaxis=dict(\n",
    "        tickfont=dict(\n",
    "            size=14,\n",
    "            color='rgb(107, 107, 107)'\n",
    "        )\n",
    "    ),\n",
    "    yaxis=dict(\n",
    "        title='USD (millions)',\n",
    "        titlefont=dict(\n",
    "            size=16,\n",
    "            color='rgb(107, 107, 107)'\n",
    "        ),\n",
    "        tickfont=dict(\n",
    "            size=14,\n",
    "            color='rgb(107, 107, 107)'\n",
    "        )\n",
    "    ),\n",
    "    legend=dict(\n",
    "        x=0,\n",
    "        y=1.0,\n",
    "        bgcolor='rgba(255, 255, 255, 0)',\n",
    "        bordercolor='rgba(255, 255, 255, 0)'\n",
    "    ),\n",
    "    barmode='group',\n",
    "    bargap=0.15,\n",
    "    bargroupgap=0.1\n",
    ")\n",
    "\n",
    "fig = go.Figure(data=data, layout=layout)\n",
    "py.iplot(fig, filename='style-bar')"
   ]
  },
  {
   "cell_type": "markdown",
   "metadata": {},
   "source": [
    "### Waterfall Bar Chart"
   ]
  },
  {
   "cell_type": "code",
   "execution_count": 14,
   "metadata": {
    "collapsed": false
   },
   "outputs": [
    {
     "data": {
      "text/html": [
       "<iframe id=\"igraph\" scrolling=\"no\" style=\"border:none;\" seamless=\"seamless\" src=\"https://plot.ly/~PythonPlotBot/807.embed\" height=\"525px\" width=\"100%\"></iframe>"
      ],
      "text/plain": [
       "<plotly.tools.PlotlyDisplay object>"
      ]
     },
     "execution_count": 14,
     "metadata": {},
     "output_type": "execute_result"
    }
   ],
   "source": [
    "import plotly.plotly as py\n",
    "import plotly.graph_objs as go\n",
    "\n",
    "x_data = ['Product<br>Revenue', 'Services<br>Revenue',\n",
    "          'Total<br>Revenue', 'Fixed<br>Costs',\n",
    "          'Variable<br>Costs', 'Total<br>Costs', 'Total']\n",
    "y_data = [400, 660, 660, 590, 400, 400, 340]\n",
    "text = ['$430K', '$260K', '$690K', '$-120K', '$-200K', '$-320K', '$370K']\n",
    "\n",
    "# Base\n",
    "trace0 = go.Bar(\n",
    "    x=x_data,\n",
    "    y=[0, 430, 0, 570, 370, 370, 0],\n",
    "    marker=dict(\n",
    "        color='rgba(1,1,1, 0.0)',\n",
    "    )\n",
    ")\n",
    "# Revenue\n",
    "trace1 = go.Bar(\n",
    "    x=x_data,\n",
    "    y=[430, 260, 690, 0, 0, 0, 0],\n",
    "    marker=dict(\n",
    "        color='rgba(55, 128, 191, 0.7)',\n",
    "        line=dict(\n",
    "            color='rgba(55, 128, 191, 1.0)',\n",
    "            width=2,\n",
    "        )\n",
    "    )\n",
    ")\n",
    "# Costs\n",
    "trace2 = go.Bar(\n",
    "    x=x_data,\n",
    "    y=[0, 0, 0, 120, 200, 320, 0],\n",
    "    marker=dict(\n",
    "        color='rgba(219, 64, 82, 0.7)',\n",
    "        line=dict(\n",
    "            color='rgba(219, 64, 82, 1.0)',\n",
    "            width=2,\n",
    "        )\n",
    "    )\n",
    ")\n",
    "# Profit\n",
    "trace3 = go.Bar(\n",
    "    x=x_data,\n",
    "    y=[0, 0, 0, 0, 0, 0, 370],\n",
    "    marker=dict(\n",
    "        color='rgba(50, 171, 96, 0.7)',\n",
    "        line=dict(\n",
    "            color='rgba(50, 171, 96, 1.0)',\n",
    "            width=2,\n",
    "        )\n",
    "    )\n",
    ")\n",
    "data = [trace0, trace1, trace2, trace3]\n",
    "layout = go.Layout(\n",
    "    title='Annual Profit- 2015',\n",
    "    barmode='stack',\n",
    "    paper_bgcolor='rgba(245, 246, 249, 1)',\n",
    "    plot_bgcolor='rgba(245, 246, 249, 1)',\n",
    "    showlegend=False\n",
    ")\n",
    "\n",
    "annotations = []\n",
    "\n",
    "for i in range(0, 7):\n",
    "    annotations.append(dict(x=x_data[i], y=y_data[i], text=text[i],\n",
    "                                  font=dict(family='Arial', size=14,\n",
    "                                  color='rgba(245, 246, 249, 1)'),\n",
    "                                  showarrow=False,))\n",
    "    layout['annotations'] = annotations\n",
    "\n",
    "fig = go.Figure(data=data, layout=layout)\n",
    "py.iplot(fig, filename='waterfall-bar-profit')"
   ]
  },
  {
   "cell_type": "markdown",
   "metadata": {},
   "source": [
    "### Bar Chart with Relative Barmode"
   ]
  },
  {
   "cell_type": "code",
   "execution_count": 15,
   "metadata": {
    "collapsed": false
   },
   "outputs": [
    {
     "data": {
      "text/html": [
       "<iframe id=\"igraph\" scrolling=\"no\" style=\"border:none;\" seamless=\"seamless\" src=\"https://plot.ly/~PythonPlotBot/809.embed\" height=\"525px\" width=\"100%\"></iframe>"
      ],
      "text/plain": [
       "<plotly.tools.PlotlyDisplay object>"
      ]
     },
     "execution_count": 15,
     "metadata": {},
     "output_type": "execute_result"
    }
   ],
   "source": [
    "x = [1, 2, 3, 4]\n",
    "\n",
    "trace1 = {\n",
    "  'x': x,\n",
    "  'y': [1, 4, 9, 16],\n",
    "  'name': 'Trace1',\n",
    "  'type': 'bar'\n",
    "};\n",
    "trace2 = {\n",
    "  'x': x,\n",
    "  'y': [6, -8, -4.5, 8],\n",
    "  'name': 'Trace2',\n",
    "  'type': 'bar'\n",
    "};\n",
    "trace3 = {\n",
    "  'x': x,\n",
    "  'y': [-15, -3, 4.5, -8],\n",
    "  'name': 'Trace3',\n",
    "  'type': 'bar'\n",
    " }\n",
    " \n",
    "trace4 = {\n",
    "  'x': x,\n",
    "  'y': [-1, 3, -3, -4],\n",
    "  'name': 'Trace4',\n",
    "  'type': 'bar'\n",
    " }\n",
    " \n",
    "data = [trace1, trace2, trace3, trace4];\n",
    "layout = {\n",
    "  'xaxis': {'title': 'X axis'},\n",
    "  'yaxis': {'title': 'Y axis'},\n",
    "  'barmode': 'relative',\n",
    "  'title': 'Relative Barmode'\n",
    "};\n",
    "py.iplot({'data': data, 'layout': layout}, filename='barmode-relative')"
   ]
  },
  {
   "cell_type": "markdown",
   "metadata": {},
   "source": [
    "### Horizontal Bar Charts\n",
    "See examples of horizontal bar charts [here](https://plot.ly/python/horizontal-bar-charts/)."
   ]
  },
  {
   "cell_type": "markdown",
   "metadata": {},
   "source": [
    "### Reference\n",
    "See https://plot.ly/python/reference/#bar for more information and chart attribute options!"
   ]
  },
  {
   "cell_type": "code",
   "execution_count": null,
   "metadata": {
    "collapsed": true
   },
   "outputs": [],
   "source": []
  }
 ],
 "metadata": {
  "anaconda-cloud": {},
  "kernelspec": {
   "display_name": "Python [default]",
   "language": "python",
   "name": "python3"
  },
  "language_info": {
   "codemirror_mode": {
    "name": "ipython",
    "version": 3
   },
   "file_extension": ".py",
   "mimetype": "text/x-python",
   "name": "python",
   "nbconvert_exporter": "python",
   "pygments_lexer": "ipython3",
   "version": "3.5.4"
  }
 },
 "nbformat": 4,
 "nbformat_minor": 1
}
